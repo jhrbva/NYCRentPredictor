{
  "nbformat": 4,
  "nbformat_minor": 0,
  "metadata": {
    "colab": {
      "name": "RentPredictorModel.ipynb",
      "provenance": [],
      "collapsed_sections": []
    },
    "kernelspec": {
      "name": "python3",
      "display_name": "Python 3"
    }
  },
  "cells": [
    {
      "cell_type": "code",
      "metadata": {
        "id": "5IIA_gCFo0gD",
        "colab_type": "code",
        "colab": {}
      },
      "source": [
        "import pandas as pd\n",
        "import requests\n",
        "import numpy as np\n",
        "import matplotlib.pyplot as plt\n",
        "\n",
        "%matplotlib inline"
      ],
      "execution_count": 0,
      "outputs": []
    },
    {
      "cell_type": "code",
      "metadata": {
        "id": "OWE51b4Bo1kZ",
        "colab_type": "code",
        "colab": {}
      },
      "source": [
        "df = pd.read_csv('https://grantmlong.com/data/SE_rents2018_test3.csv')"
      ],
      "execution_count": 0,
      "outputs": []
    },
    {
      "cell_type": "code",
      "metadata": {
        "id": "Va-hT1eDor7e",
        "colab_type": "code",
        "outputId": "cc66d2fa-3ac3-49f5-b751-c936545adb84",
        "colab": {
          "base_uri": "https://localhost:8080/",
          "height": 195
        }
      },
      "source": [
        "df.columns"
      ],
      "execution_count": 259,
      "outputs": [
        {
          "output_type": "execute_result",
          "data": {
            "text/plain": [
              "Index(['rental_id', 'addr_unit', 'building_id', 'bedrooms', 'bathrooms',\n",
              "       'size_sqft', 'created_at', 'addr_street', 'addr_city', 'addr_zip',\n",
              "       'addr_lat', 'addr_lon', 'bin', 'bbl', 'floor_count', 'year_built',\n",
              "       'min_to_subway', 'has_doorman', 'has_elevator', 'has_fireplace',\n",
              "       'has_dishwasher', 'is_furnished', 'has_gym', 'allows_pets',\n",
              "       'has_washer_dryer', 'has_garage', 'has_roofdeck', 'has_concierge',\n",
              "       'has_pool', 'has_garden', 'has_childrens_playroom', 'rent', 'no_fee',\n",
              "       'description', 'neighborhood', 'borough', 'unit', 'floornumber',\n",
              "       'line'],\n",
              "      dtype='object')"
            ]
          },
          "metadata": {
            "tags": []
          },
          "execution_count": 259
        }
      ]
    },
    {
      "cell_type": "code",
      "metadata": {
        "id": "d1G9ytPJvXtU",
        "colab_type": "code",
        "outputId": "9a7e8a8c-25a1-4a02-c165-8509742d778c",
        "colab": {
          "base_uri": "https://localhost:8080/",
          "height": 195
        }
      },
      "source": [
        "null_columns=df.columns[df.isnull().any()]\n",
        "df[null_columns].isnull().sum()"
      ],
      "execution_count": 260,
      "outputs": [
        {
          "output_type": "execute_result",
          "data": {
            "text/plain": [
              "addr_unit          22\n",
              "bin                 2\n",
              "year_built         74\n",
              "min_to_subway      16\n",
              "rent             2000\n",
              "neighborhood        1\n",
              "unit               23\n",
              "floornumber       246\n",
              "line              614\n",
              "dtype: int64"
            ]
          },
          "metadata": {
            "tags": []
          },
          "execution_count": 260
        }
      ]
    },
    {
      "cell_type": "code",
      "metadata": {
        "id": "vgHSMJcOv5d3",
        "colab_type": "code",
        "colab": {}
      },
      "source": [
        "yb_mean = df['year_built'].mean()\n",
        "df['year_built'].fillna(yb_mean, inplace=True)"
      ],
      "execution_count": 0,
      "outputs": []
    },
    {
      "cell_type": "code",
      "metadata": {
        "id": "X65nlJ9hwAV6",
        "colab_type": "code",
        "outputId": "ce694a4f-ea99-4ef9-effe-a3a39600f32e",
        "colab": {
          "base_uri": "https://localhost:8080/",
          "height": 995
        }
      },
      "source": [
        "null_cols = df['min_to_subway'].isnull()\n",
        "null_min_to_subway = df[df[\"min_to_subway\"].isnull()][null_cols]\n",
        "\n",
        "print(null_min_to_subway)\n",
        "#getting the zip codes from null_min_to_subway\n",
        "zip_codes = null_min_to_subway['addr_zip']\n",
        "print(zip_codes)\n",
        "# addresses\n",
        "addresses = null_min_to_subway['addr_street'] # null_min_to_subway['addr_zip']\n",
        "print(addresses)"
      ],
      "execution_count": 262,
      "outputs": [
        {
          "output_type": "stream",
          "text": [
            "      rental_id addr_unit  building_id  ...  unit  floornumber  line\n",
            "280     7466533       #6A     18772138  ...    6A          6.0     A\n",
            "341     7476250       #3B     18732916  ...    3B          3.0     B\n",
            "344     7437793       #1A     18742294  ...    1A          1.0     A\n",
            "546     7469572       #8K     18732562  ...    8K          8.0     K\n",
            "571     7439683       #5A     18758512  ...    5A          5.0     A\n",
            "585     7475704      #37N     18732604  ...   37N         37.0     N\n",
            "722     7462066       #2J     18772123  ...    2J          2.0     J\n",
            "769     7498450       #2F     18758467  ...    2F          2.0     F\n",
            "789     7490725       #1G     18742198  ...    1G          1.0     G\n",
            "823     7500493       #12     18772111  ...    12          NaN   NaN\n",
            "843     7459954       #2B     18772162  ...    2B          2.0     B\n",
            "993     7478236      #2BB     18772162  ...   2BB          2.0    BB\n",
            "1014    7510651      #205     18732718  ...   205          2.0    05\n",
            "1338    7435813       #5B     18772126  ...    5B          5.0     B\n",
            "1551    7434793      #15E     18771604  ...   15E         15.0     E\n",
            "1592    7431820      #21F     18733402  ...   21F         21.0     F\n",
            "\n",
            "[16 rows x 39 columns]\n",
            "280     11374\n",
            "341     11221\n",
            "344     11206\n",
            "546     11201\n",
            "571     11211\n",
            "585     11201\n",
            "722     11222\n",
            "769     11249\n",
            "789     11238\n",
            "823     11221\n",
            "843     11221\n",
            "993     11221\n",
            "1014    10003\n",
            "1338    11221\n",
            "1551    10002\n",
            "1592    11235\n",
            "Name: addr_zip, dtype: int64\n",
            "280            6486 WETHEROLE STREET\n",
            "341               1355 MYRTLE AVENUE\n",
            "344               46 MESEROLE STREET\n",
            "546     85 FLATBUSH AVENUE EXTENSION\n",
            "571               212 NORTH 9 STREET\n",
            "585                    10 CITY POINT\n",
            "722                      1 BLUE SLIP\n",
            "769                  60 BERRY STREET\n",
            "789               7 LEXINGTON AVENUE\n",
            "823                626 GREENE AVENUE\n",
            "843              79 STANHOPE STREET \n",
            "993              79 STANHOPE STREET \n",
            "1014            225 EAST 19TH STREET\n",
            "1338              951 MADISON STREET\n",
            "1551              145 CLINTON STREET\n",
            "1592            1501 VOORHIES AVENUE\n",
            "Name: addr_street, dtype: object\n"
          ],
          "name": "stdout"
        },
        {
          "output_type": "stream",
          "text": [
            "/usr/local/lib/python3.6/dist-packages/ipykernel_launcher.py:2: UserWarning: Boolean Series key will be reindexed to match DataFrame index.\n",
            "  \n"
          ],
          "name": "stderr"
        }
      ]
    },
    {
      "cell_type": "code",
      "metadata": {
        "id": "Bq2OyElWx3oc",
        "colab_type": "code",
        "colab": {}
      },
      "source": [
        "#replacing missing values\n",
        "df.loc[df.index == 280, 'min_to_subway'] = '6'\n",
        "df.loc[df.index == 341, 'min_to_subway'] = '4'\n",
        "df.loc[df.index == 344, 'min_to_subway'] = '5'\n",
        "df.loc[df.index == 546, 'min_to_subway'] = '9'\n",
        "df.loc[df.index == 571, 'min_to_subway'] = '3'\n",
        "df.loc[df.index == 585, 'min_to_subway'] = '4'\n",
        "df.loc[df.index == 722, 'min_to_subway'] = '10'\n",
        "df.loc[df.index == 769, 'min_to_subway'] = '8'\n",
        "df.loc[df.index == 789, 'min_to_subway'] = '6'\n",
        "df.loc[df.index == 823, 'min_to_subway'] = '12'\n",
        "df.loc[df.index == 843, 'min_to_subway'] = '6'\n",
        "df.loc[df.index == 993, 'min_to_subway'] = '6'\n",
        "df.loc[df.index == 1592, 'min_to_subway'] = '1'\n",
        "df.loc[df.index == 1551, 'min_to_subway'] = '4'\n",
        "df.loc[df.index == 1338, 'min_to_subway'] = '2'\n",
        "df.loc[df.index == 1014 , 'min_to_subway'] = '7'"
      ],
      "execution_count": 0,
      "outputs": []
    },
    {
      "cell_type": "code",
      "metadata": {
        "id": "qKpJKBbiTqHB",
        "colab_type": "code",
        "colab": {}
      },
      "source": [
        "df['min_to_subway'] = df['min_to_subway'].astype(np.int64)"
      ],
      "execution_count": 0,
      "outputs": []
    },
    {
      "cell_type": "code",
      "metadata": {
        "id": "GqwLgxfZTyfX",
        "colab_type": "code",
        "outputId": "abb04347-4c4d-4c49-f52a-129d63c81fe2",
        "colab": {
          "base_uri": "https://localhost:8080/",
          "height": 35
        }
      },
      "source": [
        "df['min_to_subway'].max()"
      ],
      "execution_count": 265,
      "outputs": [
        {
          "output_type": "execute_result",
          "data": {
            "text/plain": [
              "103343"
            ]
          },
          "metadata": {
            "tags": []
          },
          "execution_count": 265
        }
      ]
    },
    {
      "cell_type": "code",
      "metadata": {
        "id": "HLNaLAQfT6Yk",
        "colab_type": "code",
        "colab": {}
      },
      "source": [
        "#fixing outliers\n",
        "df.loc[df.index == 182, 'min_to_subway'] = '2'\n",
        "df.loc[df.index == 1746, 'min_to_subway'] = '2'\n",
        "df.loc[df.index == 1274, 'min_to_subway'] = '5'\n",
        "df.loc[df.index == 744, 'min_to_subway'] = '5'\n",
        "df.loc[df.index == 1794, 'min_to_subway'] = '9'"
      ],
      "execution_count": 0,
      "outputs": []
    },
    {
      "cell_type": "markdown",
      "metadata": {
        "id": "6zikHtmeb4jF",
        "colab_type": "text"
      },
      "source": [
        "**Predictive Power of Test3 Data**"
      ]
    },
    {
      "cell_type": "code",
      "metadata": {
        "id": "uKBZJbWib8uy",
        "colab_type": "code",
        "colab": {}
      },
      "source": [
        "# features:  bedrooms, bathrooms, min_to_subway, size_sqft\n",
        "import seaborn as sns\n",
        "train_df = pd.read_csv('https://grantmlong.com/data/SE_rents2018_train.csv', index_col=0)\n",
        "\n",
        "# make min_to_subway integer\n",
        "df['min_to_subway'] = df['min_to_subway'].astype(int)"
      ],
      "execution_count": 0,
      "outputs": []
    },
    {
      "cell_type": "code",
      "metadata": {
        "id": "QhD-GTuvcG9o",
        "colab_type": "code",
        "outputId": "6fa6931d-ac3e-423d-e85a-4656f6b35290",
        "colab": {
          "base_uri": "https://localhost:8080/",
          "height": 297
        }
      },
      "source": [
        "fig, axes = plt.subplots(1,2)\n",
        "\n",
        "sns.regplot(x=\"bedrooms\", y=\"rent\", data=train_df, color=\"blue\", ax=axes[0])\n",
        "sns.regplot(x=\"bathrooms\", y=\"rent\", data=train_df, color=\"red\", ax=axes[1])"
      ],
      "execution_count": 268,
      "outputs": [
        {
          "output_type": "execute_result",
          "data": {
            "text/plain": [
              "<matplotlib.axes._subplots.AxesSubplot at 0x7f0188fbdb38>"
            ]
          },
          "metadata": {
            "tags": []
          },
          "execution_count": 268
        },
        {
          "output_type": "display_data",
          "data": {
            "image/png": "[encoded data removed]",
            "text/plain": [
              "<Figure size 432x288 with 2 Axes>"
            ]
          },
          "metadata": {
            "tags": []
          }
        }
      ]
    },
    {
      "cell_type": "code",
      "metadata": {
        "id": "biZ5HsUNnTcC",
        "colab_type": "code",
        "outputId": "e5fe1733-6f27-4539-b167-9b6f69bac726",
        "colab": {
          "base_uri": "https://localhost:8080/",
          "height": 298
        }
      },
      "source": [
        "sns.regplot(x=\"size_sqft\", y=\"rent\", data=train_df, color=\"green\")"
      ],
      "execution_count": 269,
      "outputs": [
        {
          "output_type": "execute_result",
          "data": {
            "text/plain": [
              "<matplotlib.axes._subplots.AxesSubplot at 0x7f0188fda320>"
            ]
          },
          "metadata": {
            "tags": []
          },
          "execution_count": 269
        },
        {
          "output_type": "display_data",
          "data": {
            "image/png": "[encoded data removed]",
            "text/plain": [
              "<Figure size 432x288 with 1 Axes>"
            ]
          },
          "metadata": {
            "tags": []
          }
        }
      ]
    },
    {
      "cell_type": "markdown",
      "metadata": {
        "id": "MfZHb3pMKyhz",
        "colab_type": "text"
      },
      "source": [
        "**External Data Source - Restaurant Data**"
      ]
    },
    {
      "cell_type": "code",
      "metadata": {
        "id": "0EuNz5GYK2Rc",
        "colab_type": "code",
        "outputId": "1508cdb6-a1f5-47e9-8906-1225001fb16d",
        "colab": {
          "base_uri": "https://localhost:8080/",
          "height": 200
        }
      },
      "source": [
        "restaurant_df = pd.read_csv('https://raw.githubusercontent.com/jhrbva/NYCRentPredictor/master/zip_df.csv')\n",
        "restaurant_df.rename(columns={'Unnamed: 0':'Zipcode'}, inplace=True)\n",
        "restaurant_df.head(5)"
      ],
      "execution_count": 270,
      "outputs": [
        {
          "output_type": "execute_result",
          "data": {
            "text/html": [
              "<div>\n",
              "<style scoped>\n",
              "    .dataframe tbody tr th:only-of-type {\n",
              "        vertical-align: middle;\n",
              "    }\n",
              "\n",
              "    .dataframe tbody tr th {\n",
              "        vertical-align: top;\n",
              "    }\n",
              "\n",
              "    .dataframe thead th {\n",
              "        text-align: right;\n",
              "    }\n",
              "</style>\n",
              "<table border=\"1\" class=\"dataframe\">\n",
              "  <thead>\n",
              "    <tr style=\"text-align: right;\">\n",
              "      <th></th>\n",
              "      <th>Zipcode</th>\n",
              "      <th>Count</th>\n",
              "    </tr>\n",
              "  </thead>\n",
              "  <tbody>\n",
              "    <tr>\n",
              "      <th>0</th>\n",
              "      <td>10103</td>\n",
              "      <td>62</td>\n",
              "    </tr>\n",
              "    <tr>\n",
              "      <th>1</th>\n",
              "      <td>11354</td>\n",
              "      <td>6689</td>\n",
              "    </tr>\n",
              "    <tr>\n",
              "      <th>2</th>\n",
              "      <td>10023</td>\n",
              "      <td>2458</td>\n",
              "    </tr>\n",
              "    <tr>\n",
              "      <th>3</th>\n",
              "      <td>11235</td>\n",
              "      <td>2569</td>\n",
              "    </tr>\n",
              "    <tr>\n",
              "      <th>4</th>\n",
              "      <td>10282</td>\n",
              "      <td>208</td>\n",
              "    </tr>\n",
              "  </tbody>\n",
              "</table>\n",
              "</div>"
            ],
            "text/plain": [
              "   Zipcode  Count\n",
              "0    10103     62\n",
              "1    11354   6689\n",
              "2    10023   2458\n",
              "3    11235   2569\n",
              "4    10282    208"
            ]
          },
          "metadata": {
            "tags": []
          },
          "execution_count": 270
        }
      ]
    },
    {
      "cell_type": "markdown",
      "metadata": {
        "id": "4vcIEQTLMrVX",
        "colab_type": "text"
      },
      "source": [
        "Join Test 3 data with restaurant data on zipcode"
      ]
    },
    {
      "cell_type": "code",
      "metadata": {
        "id": "WBzVx0kbM6fZ",
        "colab_type": "code",
        "outputId": "ffa2bd6b-b339-4b66-c982-2367b857fb3c",
        "colab": {
          "base_uri": "https://localhost:8080/",
          "height": 544
        }
      },
      "source": [
        "join_df = df.join(restaurant_df.set_index('Zipcode'), on='addr_zip')\n",
        "join_df.head(5)"
      ],
      "execution_count": 271,
      "outputs": [
        {
          "output_type": "execute_result",
          "data": {
            "text/html": [
              "<div>\n",
              "<style scoped>\n",
              "    .dataframe tbody tr th:only-of-type {\n",
              "        vertical-align: middle;\n",
              "    }\n",
              "\n",
              "    .dataframe tbody tr th {\n",
              "        vertical-align: top;\n",
              "    }\n",
              "\n",
              "    .dataframe thead th {\n",
              "        text-align: right;\n",
              "    }\n",
              "</style>\n",
              "<table border=\"1\" class=\"dataframe\">\n",
              "  <thead>\n",
              "    <tr style=\"text-align: right;\">\n",
              "      <th></th>\n",
              "      <th>rental_id</th>\n",
              "      <th>addr_unit</th>\n",
              "      <th>building_id</th>\n",
              "      <th>bedrooms</th>\n",
              "      <th>bathrooms</th>\n",
              "      <th>size_sqft</th>\n",
              "      <th>created_at</th>\n",
              "      <th>addr_street</th>\n",
              "      <th>addr_city</th>\n",
              "      <th>addr_zip</th>\n",
              "      <th>addr_lat</th>\n",
              "      <th>addr_lon</th>\n",
              "      <th>bin</th>\n",
              "      <th>bbl</th>\n",
              "      <th>floor_count</th>\n",
              "      <th>year_built</th>\n",
              "      <th>min_to_subway</th>\n",
              "      <th>has_doorman</th>\n",
              "      <th>has_elevator</th>\n",
              "      <th>has_fireplace</th>\n",
              "      <th>has_dishwasher</th>\n",
              "      <th>is_furnished</th>\n",
              "      <th>has_gym</th>\n",
              "      <th>allows_pets</th>\n",
              "      <th>has_washer_dryer</th>\n",
              "      <th>has_garage</th>\n",
              "      <th>has_roofdeck</th>\n",
              "      <th>has_concierge</th>\n",
              "      <th>has_pool</th>\n",
              "      <th>has_garden</th>\n",
              "      <th>has_childrens_playroom</th>\n",
              "      <th>rent</th>\n",
              "      <th>no_fee</th>\n",
              "      <th>description</th>\n",
              "      <th>neighborhood</th>\n",
              "      <th>borough</th>\n",
              "      <th>unit</th>\n",
              "      <th>floornumber</th>\n",
              "      <th>line</th>\n",
              "      <th>Count</th>\n",
              "    </tr>\n",
              "  </thead>\n",
              "  <tbody>\n",
              "    <tr>\n",
              "      <th>0</th>\n",
              "      <td>7455565</td>\n",
              "      <td>#RR1</td>\n",
              "      <td>399352</td>\n",
              "      <td>4</td>\n",
              "      <td>2.0</td>\n",
              "      <td>1200.0</td>\n",
              "      <td>2018-08-08 11:39:21</td>\n",
              "      <td>287 HARMAN STREET</td>\n",
              "      <td>Brooklyn</td>\n",
              "      <td>11237</td>\n",
              "      <td>40.699847</td>\n",
              "      <td>-73.919288</td>\n",
              "      <td>3074845.0</td>\n",
              "      <td>3032790055</td>\n",
              "      <td>3.0</td>\n",
              "      <td>1931.000000</td>\n",
              "      <td>1</td>\n",
              "      <td>0</td>\n",
              "      <td>0</td>\n",
              "      <td>0</td>\n",
              "      <td>0</td>\n",
              "      <td>0</td>\n",
              "      <td>0</td>\n",
              "      <td>0</td>\n",
              "      <td>0</td>\n",
              "      <td>0</td>\n",
              "      <td>1</td>\n",
              "      <td>0</td>\n",
              "      <td>0</td>\n",
              "      <td>0</td>\n",
              "      <td>0</td>\n",
              "      <td>NaN</td>\n",
              "      <td>1</td>\n",
              "      <td>4 Bed / 2.5 Bath in Bushwick, Brooklyn. Pets U...</td>\n",
              "      <td>Bushwick</td>\n",
              "      <td>Brooklyn</td>\n",
              "      <td>RR1</td>\n",
              "      <td>1.0</td>\n",
              "      <td>RR</td>\n",
              "      <td>3741</td>\n",
              "    </tr>\n",
              "    <tr>\n",
              "      <th>1</th>\n",
              "      <td>7473295</td>\n",
              "      <td>#2R</td>\n",
              "      <td>298804</td>\n",
              "      <td>1</td>\n",
              "      <td>1.0</td>\n",
              "      <td>800.0</td>\n",
              "      <td>2018-08-13 22:42:14</td>\n",
              "      <td>415 STUYVESANT AVENUE</td>\n",
              "      <td>Brooklyn</td>\n",
              "      <td>11233</td>\n",
              "      <td>40.679966</td>\n",
              "      <td>-73.931206</td>\n",
              "      <td>3047906.0</td>\n",
              "      <td>3016910003</td>\n",
              "      <td>2.0</td>\n",
              "      <td>1899.000000</td>\n",
              "      <td>1</td>\n",
              "      <td>0</td>\n",
              "      <td>0</td>\n",
              "      <td>0</td>\n",
              "      <td>1</td>\n",
              "      <td>0</td>\n",
              "      <td>0</td>\n",
              "      <td>1</td>\n",
              "      <td>0</td>\n",
              "      <td>0</td>\n",
              "      <td>0</td>\n",
              "      <td>0</td>\n",
              "      <td>0</td>\n",
              "      <td>0</td>\n",
              "      <td>0</td>\n",
              "      <td>NaN</td>\n",
              "      <td>1</td>\n",
              "      <td>Renovated and spacious 1 bedroom/1 bath with a...</td>\n",
              "      <td>Bedford-Stuyvesant</td>\n",
              "      <td>Brooklyn</td>\n",
              "      <td>2R</td>\n",
              "      <td>2.0</td>\n",
              "      <td>R</td>\n",
              "      <td>1076</td>\n",
              "    </tr>\n",
              "    <tr>\n",
              "      <th>2</th>\n",
              "      <td>7459804</td>\n",
              "      <td>#713</td>\n",
              "      <td>55336</td>\n",
              "      <td>0</td>\n",
              "      <td>1.0</td>\n",
              "      <td>525.0</td>\n",
              "      <td>2018-08-09 11:18:53</td>\n",
              "      <td>500 WEST 56 STREET</td>\n",
              "      <td>New York</td>\n",
              "      <td>10019</td>\n",
              "      <td>40.768101</td>\n",
              "      <td>-73.989700</td>\n",
              "      <td>1087635.0</td>\n",
              "      <td>1010840025</td>\n",
              "      <td>26.0</td>\n",
              "      <td>2002.000000</td>\n",
              "      <td>7</td>\n",
              "      <td>1</td>\n",
              "      <td>1</td>\n",
              "      <td>0</td>\n",
              "      <td>1</td>\n",
              "      <td>1</td>\n",
              "      <td>1</td>\n",
              "      <td>1</td>\n",
              "      <td>0</td>\n",
              "      <td>1</td>\n",
              "      <td>0</td>\n",
              "      <td>1</td>\n",
              "      <td>1</td>\n",
              "      <td>1</td>\n",
              "      <td>0</td>\n",
              "      <td>NaN</td>\n",
              "      <td>1</td>\n",
              "      <td>Monthly rental amount depending on the duratio...</td>\n",
              "      <td>Midtown West</td>\n",
              "      <td>Manhattan</td>\n",
              "      <td>713</td>\n",
              "      <td>7.0</td>\n",
              "      <td>13</td>\n",
              "      <td>9365</td>\n",
              "    </tr>\n",
              "    <tr>\n",
              "      <th>3</th>\n",
              "      <td>7456330</td>\n",
              "      <td>#4B</td>\n",
              "      <td>1251607</td>\n",
              "      <td>2</td>\n",
              "      <td>1.0</td>\n",
              "      <td>750.0</td>\n",
              "      <td>2018-08-08 13:33:13</td>\n",
              "      <td>39-44 24 STREET</td>\n",
              "      <td>Long Island City</td>\n",
              "      <td>11101</td>\n",
              "      <td>40.754183</td>\n",
              "      <td>-73.938745</td>\n",
              "      <td>4004757.0</td>\n",
              "      <td>4003940042</td>\n",
              "      <td>4.0</td>\n",
              "      <td>1920.000000</td>\n",
              "      <td>1</td>\n",
              "      <td>0</td>\n",
              "      <td>0</td>\n",
              "      <td>0</td>\n",
              "      <td>0</td>\n",
              "      <td>0</td>\n",
              "      <td>0</td>\n",
              "      <td>0</td>\n",
              "      <td>0</td>\n",
              "      <td>0</td>\n",
              "      <td>0</td>\n",
              "      <td>0</td>\n",
              "      <td>0</td>\n",
              "      <td>0</td>\n",
              "      <td>0</td>\n",
              "      <td>NaN</td>\n",
              "      <td>0</td>\n",
              "      <td>Two bedroom apartment available September 1st ...</td>\n",
              "      <td>Long Island City</td>\n",
              "      <td>Queens</td>\n",
              "      <td>4B</td>\n",
              "      <td>4.0</td>\n",
              "      <td>B</td>\n",
              "      <td>4363</td>\n",
              "    </tr>\n",
              "    <tr>\n",
              "      <th>4</th>\n",
              "      <td>7443595</td>\n",
              "      <td>#3G</td>\n",
              "      <td>17965342</td>\n",
              "      <td>0</td>\n",
              "      <td>1.0</td>\n",
              "      <td>487.0</td>\n",
              "      <td>2018-08-04 15:00:41</td>\n",
              "      <td>50 EAST 28TH STREET</td>\n",
              "      <td>New York</td>\n",
              "      <td>10016</td>\n",
              "      <td>40.743698</td>\n",
              "      <td>-73.985100</td>\n",
              "      <td>1811087.0</td>\n",
              "      <td>1008570046</td>\n",
              "      <td>0.0</td>\n",
              "      <td>1936.547248</td>\n",
              "      <td>0</td>\n",
              "      <td>1</td>\n",
              "      <td>1</td>\n",
              "      <td>0</td>\n",
              "      <td>0</td>\n",
              "      <td>0</td>\n",
              "      <td>1</td>\n",
              "      <td>1</td>\n",
              "      <td>1</td>\n",
              "      <td>0</td>\n",
              "      <td>0</td>\n",
              "      <td>1</td>\n",
              "      <td>0</td>\n",
              "      <td>1</td>\n",
              "      <td>1</td>\n",
              "      <td>NaN</td>\n",
              "      <td>1</td>\n",
              "      <td>NO BROKER FEES. Prism at Park Avenue South is ...</td>\n",
              "      <td>Flatiron</td>\n",
              "      <td>Manhattan</td>\n",
              "      <td>3G</td>\n",
              "      <td>3.0</td>\n",
              "      <td>G</td>\n",
              "      <td>6722</td>\n",
              "    </tr>\n",
              "  </tbody>\n",
              "</table>\n",
              "</div>"
            ],
            "text/plain": [
              "   rental_id addr_unit  building_id  bedrooms  ...  unit  floornumber line Count\n",
              "0    7455565      #RR1       399352         4  ...   RR1          1.0   RR  3741\n",
              "1    7473295       #2R       298804         1  ...    2R          2.0    R  1076\n",
              "2    7459804      #713        55336         0  ...   713          7.0   13  9365\n",
              "3    7456330       #4B      1251607         2  ...    4B          4.0    B  4363\n",
              "4    7443595       #3G     17965342         0  ...    3G          3.0    G  6722\n",
              "\n",
              "[5 rows x 40 columns]"
            ]
          },
          "metadata": {
            "tags": []
          },
          "execution_count": 271
        }
      ]
    },
    {
      "cell_type": "markdown",
      "metadata": {
        "id": "WH9cJa-bbnik",
        "colab_type": "text"
      },
      "source": [
        "**External Data Source - Parks Data**"
      ]
    },
    {
      "cell_type": "code",
      "metadata": {
        "id": "3yKEAWEgY5SY",
        "colab_type": "code",
        "outputId": "e479b2d2-e585-45eb-e5f9-cd290957d039",
        "colab": {
          "base_uri": "https://localhost:8080/",
          "height": 200
        }
      },
      "source": [
        "park_df = pd.read_csv('https://raw.githubusercontent.com/jhrbva/NYCRentPredictor/master/parks_df.csv')\n",
        "park_df.rename(columns={'Unnamed: 0':'Zipcode'}, inplace=True)\n",
        "park_df.head(5)"
      ],
      "execution_count": 272,
      "outputs": [
        {
          "output_type": "execute_result",
          "data": {
            "text/html": [
              "<div>\n",
              "<style scoped>\n",
              "    .dataframe tbody tr th:only-of-type {\n",
              "        vertical-align: middle;\n",
              "    }\n",
              "\n",
              "    .dataframe tbody tr th {\n",
              "        vertical-align: top;\n",
              "    }\n",
              "\n",
              "    .dataframe thead th {\n",
              "        text-align: right;\n",
              "    }\n",
              "</style>\n",
              "<table border=\"1\" class=\"dataframe\">\n",
              "  <thead>\n",
              "    <tr style=\"text-align: right;\">\n",
              "      <th></th>\n",
              "      <th>Zipcode</th>\n",
              "      <th>NumParks</th>\n",
              "    </tr>\n",
              "  </thead>\n",
              "  <tbody>\n",
              "    <tr>\n",
              "      <th>0</th>\n",
              "      <td>11430</td>\n",
              "      <td>5</td>\n",
              "    </tr>\n",
              "    <tr>\n",
              "      <th>1</th>\n",
              "      <td>11414</td>\n",
              "      <td>1</td>\n",
              "    </tr>\n",
              "    <tr>\n",
              "      <th>2</th>\n",
              "      <td>10301</td>\n",
              "      <td>14</td>\n",
              "    </tr>\n",
              "    <tr>\n",
              "      <th>3</th>\n",
              "      <td>10314</td>\n",
              "      <td>4</td>\n",
              "    </tr>\n",
              "    <tr>\n",
              "      <th>4</th>\n",
              "      <td>10306</td>\n",
              "      <td>17</td>\n",
              "    </tr>\n",
              "  </tbody>\n",
              "</table>\n",
              "</div>"
            ],
            "text/plain": [
              "   Zipcode  NumParks\n",
              "0    11430         5\n",
              "1    11414         1\n",
              "2    10301        14\n",
              "3    10314         4\n",
              "4    10306        17"
            ]
          },
          "metadata": {
            "tags": []
          },
          "execution_count": 272
        }
      ]
    },
    {
      "cell_type": "markdown",
      "metadata": {
        "id": "3THa8woyZISq",
        "colab_type": "text"
      },
      "source": [
        "Joining Test 3 data and restuarant data with park counts on zipcode"
      ]
    },
    {
      "cell_type": "code",
      "metadata": {
        "id": "XyTymyKjZHO_",
        "colab_type": "code",
        "outputId": "c913beab-2dce-4dfb-e65e-6f3e04c9286c",
        "colab": {
          "base_uri": "https://localhost:8080/",
          "height": 544
        }
      },
      "source": [
        "join_df = join_df.join(park_df.set_index('Zipcode'), on='addr_zip')\n",
        "join_df.head(5)"
      ],
      "execution_count": 273,
      "outputs": [
        {
          "output_type": "execute_result",
          "data": {
            "text/html": [
              "<div>\n",
              "<style scoped>\n",
              "    .dataframe tbody tr th:only-of-type {\n",
              "        vertical-align: middle;\n",
              "    }\n",
              "\n",
              "    .dataframe tbody tr th {\n",
              "        vertical-align: top;\n",
              "    }\n",
              "\n",
              "    .dataframe thead th {\n",
              "        text-align: right;\n",
              "    }\n",
              "</style>\n",
              "<table border=\"1\" class=\"dataframe\">\n",
              "  <thead>\n",
              "    <tr style=\"text-align: right;\">\n",
              "      <th></th>\n",
              "      <th>rental_id</th>\n",
              "      <th>addr_unit</th>\n",
              "      <th>building_id</th>\n",
              "      <th>bedrooms</th>\n",
              "      <th>bathrooms</th>\n",
              "      <th>size_sqft</th>\n",
              "      <th>created_at</th>\n",
              "      <th>addr_street</th>\n",
              "      <th>addr_city</th>\n",
              "      <th>addr_zip</th>\n",
              "      <th>addr_lat</th>\n",
              "      <th>addr_lon</th>\n",
              "      <th>bin</th>\n",
              "      <th>bbl</th>\n",
              "      <th>floor_count</th>\n",
              "      <th>year_built</th>\n",
              "      <th>min_to_subway</th>\n",
              "      <th>has_doorman</th>\n",
              "      <th>has_elevator</th>\n",
              "      <th>has_fireplace</th>\n",
              "      <th>has_dishwasher</th>\n",
              "      <th>is_furnished</th>\n",
              "      <th>has_gym</th>\n",
              "      <th>allows_pets</th>\n",
              "      <th>has_washer_dryer</th>\n",
              "      <th>has_garage</th>\n",
              "      <th>has_roofdeck</th>\n",
              "      <th>has_concierge</th>\n",
              "      <th>has_pool</th>\n",
              "      <th>has_garden</th>\n",
              "      <th>has_childrens_playroom</th>\n",
              "      <th>rent</th>\n",
              "      <th>no_fee</th>\n",
              "      <th>description</th>\n",
              "      <th>neighborhood</th>\n",
              "      <th>borough</th>\n",
              "      <th>unit</th>\n",
              "      <th>floornumber</th>\n",
              "      <th>line</th>\n",
              "      <th>Count</th>\n",
              "      <th>NumParks</th>\n",
              "    </tr>\n",
              "  </thead>\n",
              "  <tbody>\n",
              "    <tr>\n",
              "      <th>0</th>\n",
              "      <td>7455565</td>\n",
              "      <td>#RR1</td>\n",
              "      <td>399352</td>\n",
              "      <td>4</td>\n",
              "      <td>2.0</td>\n",
              "      <td>1200.0</td>\n",
              "      <td>2018-08-08 11:39:21</td>\n",
              "      <td>287 HARMAN STREET</td>\n",
              "      <td>Brooklyn</td>\n",
              "      <td>11237</td>\n",
              "      <td>40.699847</td>\n",
              "      <td>-73.919288</td>\n",
              "      <td>3074845.0</td>\n",
              "      <td>3032790055</td>\n",
              "      <td>3.0</td>\n",
              "      <td>1931.000000</td>\n",
              "      <td>1</td>\n",
              "      <td>0</td>\n",
              "      <td>0</td>\n",
              "      <td>0</td>\n",
              "      <td>0</td>\n",
              "      <td>0</td>\n",
              "      <td>0</td>\n",
              "      <td>0</td>\n",
              "      <td>0</td>\n",
              "      <td>0</td>\n",
              "      <td>1</td>\n",
              "      <td>0</td>\n",
              "      <td>0</td>\n",
              "      <td>0</td>\n",
              "      <td>0</td>\n",
              "      <td>NaN</td>\n",
              "      <td>1</td>\n",
              "      <td>4 Bed / 2.5 Bath in Bushwick, Brooklyn. Pets U...</td>\n",
              "      <td>Bushwick</td>\n",
              "      <td>Brooklyn</td>\n",
              "      <td>RR1</td>\n",
              "      <td>1.0</td>\n",
              "      <td>RR</td>\n",
              "      <td>3741</td>\n",
              "      <td>NaN</td>\n",
              "    </tr>\n",
              "    <tr>\n",
              "      <th>1</th>\n",
              "      <td>7473295</td>\n",
              "      <td>#2R</td>\n",
              "      <td>298804</td>\n",
              "      <td>1</td>\n",
              "      <td>1.0</td>\n",
              "      <td>800.0</td>\n",
              "      <td>2018-08-13 22:42:14</td>\n",
              "      <td>415 STUYVESANT AVENUE</td>\n",
              "      <td>Brooklyn</td>\n",
              "      <td>11233</td>\n",
              "      <td>40.679966</td>\n",
              "      <td>-73.931206</td>\n",
              "      <td>3047906.0</td>\n",
              "      <td>3016910003</td>\n",
              "      <td>2.0</td>\n",
              "      <td>1899.000000</td>\n",
              "      <td>1</td>\n",
              "      <td>0</td>\n",
              "      <td>0</td>\n",
              "      <td>0</td>\n",
              "      <td>1</td>\n",
              "      <td>0</td>\n",
              "      <td>0</td>\n",
              "      <td>1</td>\n",
              "      <td>0</td>\n",
              "      <td>0</td>\n",
              "      <td>0</td>\n",
              "      <td>0</td>\n",
              "      <td>0</td>\n",
              "      <td>0</td>\n",
              "      <td>0</td>\n",
              "      <td>NaN</td>\n",
              "      <td>1</td>\n",
              "      <td>Renovated and spacious 1 bedroom/1 bath with a...</td>\n",
              "      <td>Bedford-Stuyvesant</td>\n",
              "      <td>Brooklyn</td>\n",
              "      <td>2R</td>\n",
              "      <td>2.0</td>\n",
              "      <td>R</td>\n",
              "      <td>1076</td>\n",
              "      <td>NaN</td>\n",
              "    </tr>\n",
              "    <tr>\n",
              "      <th>2</th>\n",
              "      <td>7459804</td>\n",
              "      <td>#713</td>\n",
              "      <td>55336</td>\n",
              "      <td>0</td>\n",
              "      <td>1.0</td>\n",
              "      <td>525.0</td>\n",
              "      <td>2018-08-09 11:18:53</td>\n",
              "      <td>500 WEST 56 STREET</td>\n",
              "      <td>New York</td>\n",
              "      <td>10019</td>\n",
              "      <td>40.768101</td>\n",
              "      <td>-73.989700</td>\n",
              "      <td>1087635.0</td>\n",
              "      <td>1010840025</td>\n",
              "      <td>26.0</td>\n",
              "      <td>2002.000000</td>\n",
              "      <td>7</td>\n",
              "      <td>1</td>\n",
              "      <td>1</td>\n",
              "      <td>0</td>\n",
              "      <td>1</td>\n",
              "      <td>1</td>\n",
              "      <td>1</td>\n",
              "      <td>1</td>\n",
              "      <td>0</td>\n",
              "      <td>1</td>\n",
              "      <td>0</td>\n",
              "      <td>1</td>\n",
              "      <td>1</td>\n",
              "      <td>1</td>\n",
              "      <td>0</td>\n",
              "      <td>NaN</td>\n",
              "      <td>1</td>\n",
              "      <td>Monthly rental amount depending on the duratio...</td>\n",
              "      <td>Midtown West</td>\n",
              "      <td>Manhattan</td>\n",
              "      <td>713</td>\n",
              "      <td>7.0</td>\n",
              "      <td>13</td>\n",
              "      <td>9365</td>\n",
              "      <td>2.0</td>\n",
              "    </tr>\n",
              "    <tr>\n",
              "      <th>3</th>\n",
              "      <td>7456330</td>\n",
              "      <td>#4B</td>\n",
              "      <td>1251607</td>\n",
              "      <td>2</td>\n",
              "      <td>1.0</td>\n",
              "      <td>750.0</td>\n",
              "      <td>2018-08-08 13:33:13</td>\n",
              "      <td>39-44 24 STREET</td>\n",
              "      <td>Long Island City</td>\n",
              "      <td>11101</td>\n",
              "      <td>40.754183</td>\n",
              "      <td>-73.938745</td>\n",
              "      <td>4004757.0</td>\n",
              "      <td>4003940042</td>\n",
              "      <td>4.0</td>\n",
              "      <td>1920.000000</td>\n",
              "      <td>1</td>\n",
              "      <td>0</td>\n",
              "      <td>0</td>\n",
              "      <td>0</td>\n",
              "      <td>0</td>\n",
              "      <td>0</td>\n",
              "      <td>0</td>\n",
              "      <td>0</td>\n",
              "      <td>0</td>\n",
              "      <td>0</td>\n",
              "      <td>0</td>\n",
              "      <td>0</td>\n",
              "      <td>0</td>\n",
              "      <td>0</td>\n",
              "      <td>0</td>\n",
              "      <td>NaN</td>\n",
              "      <td>0</td>\n",
              "      <td>Two bedroom apartment available September 1st ...</td>\n",
              "      <td>Long Island City</td>\n",
              "      <td>Queens</td>\n",
              "      <td>4B</td>\n",
              "      <td>4.0</td>\n",
              "      <td>B</td>\n",
              "      <td>4363</td>\n",
              "      <td>NaN</td>\n",
              "    </tr>\n",
              "    <tr>\n",
              "      <th>4</th>\n",
              "      <td>7443595</td>\n",
              "      <td>#3G</td>\n",
              "      <td>17965342</td>\n",
              "      <td>0</td>\n",
              "      <td>1.0</td>\n",
              "      <td>487.0</td>\n",
              "      <td>2018-08-04 15:00:41</td>\n",
              "      <td>50 EAST 28TH STREET</td>\n",
              "      <td>New York</td>\n",
              "      <td>10016</td>\n",
              "      <td>40.743698</td>\n",
              "      <td>-73.985100</td>\n",
              "      <td>1811087.0</td>\n",
              "      <td>1008570046</td>\n",
              "      <td>0.0</td>\n",
              "      <td>1936.547248</td>\n",
              "      <td>0</td>\n",
              "      <td>1</td>\n",
              "      <td>1</td>\n",
              "      <td>0</td>\n",
              "      <td>0</td>\n",
              "      <td>0</td>\n",
              "      <td>1</td>\n",
              "      <td>1</td>\n",
              "      <td>1</td>\n",
              "      <td>0</td>\n",
              "      <td>0</td>\n",
              "      <td>1</td>\n",
              "      <td>0</td>\n",
              "      <td>1</td>\n",
              "      <td>1</td>\n",
              "      <td>NaN</td>\n",
              "      <td>1</td>\n",
              "      <td>NO BROKER FEES. Prism at Park Avenue South is ...</td>\n",
              "      <td>Flatiron</td>\n",
              "      <td>Manhattan</td>\n",
              "      <td>3G</td>\n",
              "      <td>3.0</td>\n",
              "      <td>G</td>\n",
              "      <td>6722</td>\n",
              "      <td>NaN</td>\n",
              "    </tr>\n",
              "  </tbody>\n",
              "</table>\n",
              "</div>"
            ],
            "text/plain": [
              "   rental_id addr_unit  building_id  ...  line  Count  NumParks\n",
              "0    7455565      #RR1       399352  ...    RR   3741       NaN\n",
              "1    7473295       #2R       298804  ...     R   1076       NaN\n",
              "2    7459804      #713        55336  ...    13   9365       2.0\n",
              "3    7456330       #4B      1251607  ...     B   4363       NaN\n",
              "4    7443595       #3G     17965342  ...     G   6722       NaN\n",
              "\n",
              "[5 rows x 41 columns]"
            ]
          },
          "metadata": {
            "tags": []
          },
          "execution_count": 273
        }
      ]
    },
    {
      "cell_type": "code",
      "metadata": {
        "id": "WQb3qxpsZnmv",
        "colab_type": "code",
        "outputId": "7fdfd5fa-160c-4349-bf12-9798f0a849f7",
        "colab": {
          "base_uri": "https://localhost:8080/",
          "height": 544
        }
      },
      "source": [
        "# fixing the NaN from NumParks Column - NaN meaning that there are no parks in the zipcodes of the apartment\n",
        "join_df['NumParks'].fillna(0, inplace=True)\n",
        "join_df['NumParks'] = join_df['NumParks'].astype(np.int64)\n",
        "join_df.head(5)"
      ],
      "execution_count": 274,
      "outputs": [
        {
          "output_type": "execute_result",
          "data": {
            "text/html": [
              "<div>\n",
              "<style scoped>\n",
              "    .dataframe tbody tr th:only-of-type {\n",
              "        vertical-align: middle;\n",
              "    }\n",
              "\n",
              "    .dataframe tbody tr th {\n",
              "        vertical-align: top;\n",
              "    }\n",
              "\n",
              "    .dataframe thead th {\n",
              "        text-align: right;\n",
              "    }\n",
              "</style>\n",
              "<table border=\"1\" class=\"dataframe\">\n",
              "  <thead>\n",
              "    <tr style=\"text-align: right;\">\n",
              "      <th></th>\n",
              "      <th>rental_id</th>\n",
              "      <th>addr_unit</th>\n",
              "      <th>building_id</th>\n",
              "      <th>bedrooms</th>\n",
              "      <th>bathrooms</th>\n",
              "      <th>size_sqft</th>\n",
              "      <th>created_at</th>\n",
              "      <th>addr_street</th>\n",
              "      <th>addr_city</th>\n",
              "      <th>addr_zip</th>\n",
              "      <th>addr_lat</th>\n",
              "      <th>addr_lon</th>\n",
              "      <th>bin</th>\n",
              "      <th>bbl</th>\n",
              "      <th>floor_count</th>\n",
              "      <th>year_built</th>\n",
              "      <th>min_to_subway</th>\n",
              "      <th>has_doorman</th>\n",
              "      <th>has_elevator</th>\n",
              "      <th>has_fireplace</th>\n",
              "      <th>has_dishwasher</th>\n",
              "      <th>is_furnished</th>\n",
              "      <th>has_gym</th>\n",
              "      <th>allows_pets</th>\n",
              "      <th>has_washer_dryer</th>\n",
              "      <th>has_garage</th>\n",
              "      <th>has_roofdeck</th>\n",
              "      <th>has_concierge</th>\n",
              "      <th>has_pool</th>\n",
              "      <th>has_garden</th>\n",
              "      <th>has_childrens_playroom</th>\n",
              "      <th>rent</th>\n",
              "      <th>no_fee</th>\n",
              "      <th>description</th>\n",
              "      <th>neighborhood</th>\n",
              "      <th>borough</th>\n",
              "      <th>unit</th>\n",
              "      <th>floornumber</th>\n",
              "      <th>line</th>\n",
              "      <th>Count</th>\n",
              "      <th>NumParks</th>\n",
              "    </tr>\n",
              "  </thead>\n",
              "  <tbody>\n",
              "    <tr>\n",
              "      <th>0</th>\n",
              "      <td>7455565</td>\n",
              "      <td>#RR1</td>\n",
              "      <td>399352</td>\n",
              "      <td>4</td>\n",
              "      <td>2.0</td>\n",
              "      <td>1200.0</td>\n",
              "      <td>2018-08-08 11:39:21</td>\n",
              "      <td>287 HARMAN STREET</td>\n",
              "      <td>Brooklyn</td>\n",
              "      <td>11237</td>\n",
              "      <td>40.699847</td>\n",
              "      <td>-73.919288</td>\n",
              "      <td>3074845.0</td>\n",
              "      <td>3032790055</td>\n",
              "      <td>3.0</td>\n",
              "      <td>1931.000000</td>\n",
              "      <td>1</td>\n",
              "      <td>0</td>\n",
              "      <td>0</td>\n",
              "      <td>0</td>\n",
              "      <td>0</td>\n",
              "      <td>0</td>\n",
              "      <td>0</td>\n",
              "      <td>0</td>\n",
              "      <td>0</td>\n",
              "      <td>0</td>\n",
              "      <td>1</td>\n",
              "      <td>0</td>\n",
              "      <td>0</td>\n",
              "      <td>0</td>\n",
              "      <td>0</td>\n",
              "      <td>NaN</td>\n",
              "      <td>1</td>\n",
              "      <td>4 Bed / 2.5 Bath in Bushwick, Brooklyn. Pets U...</td>\n",
              "      <td>Bushwick</td>\n",
              "      <td>Brooklyn</td>\n",
              "      <td>RR1</td>\n",
              "      <td>1.0</td>\n",
              "      <td>RR</td>\n",
              "      <td>3741</td>\n",
              "      <td>0</td>\n",
              "    </tr>\n",
              "    <tr>\n",
              "      <th>1</th>\n",
              "      <td>7473295</td>\n",
              "      <td>#2R</td>\n",
              "      <td>298804</td>\n",
              "      <td>1</td>\n",
              "      <td>1.0</td>\n",
              "      <td>800.0</td>\n",
              "      <td>2018-08-13 22:42:14</td>\n",
              "      <td>415 STUYVESANT AVENUE</td>\n",
              "      <td>Brooklyn</td>\n",
              "      <td>11233</td>\n",
              "      <td>40.679966</td>\n",
              "      <td>-73.931206</td>\n",
              "      <td>3047906.0</td>\n",
              "      <td>3016910003</td>\n",
              "      <td>2.0</td>\n",
              "      <td>1899.000000</td>\n",
              "      <td>1</td>\n",
              "      <td>0</td>\n",
              "      <td>0</td>\n",
              "      <td>0</td>\n",
              "      <td>1</td>\n",
              "      <td>0</td>\n",
              "      <td>0</td>\n",
              "      <td>1</td>\n",
              "      <td>0</td>\n",
              "      <td>0</td>\n",
              "      <td>0</td>\n",
              "      <td>0</td>\n",
              "      <td>0</td>\n",
              "      <td>0</td>\n",
              "      <td>0</td>\n",
              "      <td>NaN</td>\n",
              "      <td>1</td>\n",
              "      <td>Renovated and spacious 1 bedroom/1 bath with a...</td>\n",
              "      <td>Bedford-Stuyvesant</td>\n",
              "      <td>Brooklyn</td>\n",
              "      <td>2R</td>\n",
              "      <td>2.0</td>\n",
              "      <td>R</td>\n",
              "      <td>1076</td>\n",
              "      <td>0</td>\n",
              "    </tr>\n",
              "    <tr>\n",
              "      <th>2</th>\n",
              "      <td>7459804</td>\n",
              "      <td>#713</td>\n",
              "      <td>55336</td>\n",
              "      <td>0</td>\n",
              "      <td>1.0</td>\n",
              "      <td>525.0</td>\n",
              "      <td>2018-08-09 11:18:53</td>\n",
              "      <td>500 WEST 56 STREET</td>\n",
              "      <td>New York</td>\n",
              "      <td>10019</td>\n",
              "      <td>40.768101</td>\n",
              "      <td>-73.989700</td>\n",
              "      <td>1087635.0</td>\n",
              "      <td>1010840025</td>\n",
              "      <td>26.0</td>\n",
              "      <td>2002.000000</td>\n",
              "      <td>7</td>\n",
              "      <td>1</td>\n",
              "      <td>1</td>\n",
              "      <td>0</td>\n",
              "      <td>1</td>\n",
              "      <td>1</td>\n",
              "      <td>1</td>\n",
              "      <td>1</td>\n",
              "      <td>0</td>\n",
              "      <td>1</td>\n",
              "      <td>0</td>\n",
              "      <td>1</td>\n",
              "      <td>1</td>\n",
              "      <td>1</td>\n",
              "      <td>0</td>\n",
              "      <td>NaN</td>\n",
              "      <td>1</td>\n",
              "      <td>Monthly rental amount depending on the duratio...</td>\n",
              "      <td>Midtown West</td>\n",
              "      <td>Manhattan</td>\n",
              "      <td>713</td>\n",
              "      <td>7.0</td>\n",
              "      <td>13</td>\n",
              "      <td>9365</td>\n",
              "      <td>2</td>\n",
              "    </tr>\n",
              "    <tr>\n",
              "      <th>3</th>\n",
              "      <td>7456330</td>\n",
              "      <td>#4B</td>\n",
              "      <td>1251607</td>\n",
              "      <td>2</td>\n",
              "      <td>1.0</td>\n",
              "      <td>750.0</td>\n",
              "      <td>2018-08-08 13:33:13</td>\n",
              "      <td>39-44 24 STREET</td>\n",
              "      <td>Long Island City</td>\n",
              "      <td>11101</td>\n",
              "      <td>40.754183</td>\n",
              "      <td>-73.938745</td>\n",
              "      <td>4004757.0</td>\n",
              "      <td>4003940042</td>\n",
              "      <td>4.0</td>\n",
              "      <td>1920.000000</td>\n",
              "      <td>1</td>\n",
              "      <td>0</td>\n",
              "      <td>0</td>\n",
              "      <td>0</td>\n",
              "      <td>0</td>\n",
              "      <td>0</td>\n",
              "      <td>0</td>\n",
              "      <td>0</td>\n",
              "      <td>0</td>\n",
              "      <td>0</td>\n",
              "      <td>0</td>\n",
              "      <td>0</td>\n",
              "      <td>0</td>\n",
              "      <td>0</td>\n",
              "      <td>0</td>\n",
              "      <td>NaN</td>\n",
              "      <td>0</td>\n",
              "      <td>Two bedroom apartment available September 1st ...</td>\n",
              "      <td>Long Island City</td>\n",
              "      <td>Queens</td>\n",
              "      <td>4B</td>\n",
              "      <td>4.0</td>\n",
              "      <td>B</td>\n",
              "      <td>4363</td>\n",
              "      <td>0</td>\n",
              "    </tr>\n",
              "    <tr>\n",
              "      <th>4</th>\n",
              "      <td>7443595</td>\n",
              "      <td>#3G</td>\n",
              "      <td>17965342</td>\n",
              "      <td>0</td>\n",
              "      <td>1.0</td>\n",
              "      <td>487.0</td>\n",
              "      <td>2018-08-04 15:00:41</td>\n",
              "      <td>50 EAST 28TH STREET</td>\n",
              "      <td>New York</td>\n",
              "      <td>10016</td>\n",
              "      <td>40.743698</td>\n",
              "      <td>-73.985100</td>\n",
              "      <td>1811087.0</td>\n",
              "      <td>1008570046</td>\n",
              "      <td>0.0</td>\n",
              "      <td>1936.547248</td>\n",
              "      <td>0</td>\n",
              "      <td>1</td>\n",
              "      <td>1</td>\n",
              "      <td>0</td>\n",
              "      <td>0</td>\n",
              "      <td>0</td>\n",
              "      <td>1</td>\n",
              "      <td>1</td>\n",
              "      <td>1</td>\n",
              "      <td>0</td>\n",
              "      <td>0</td>\n",
              "      <td>1</td>\n",
              "      <td>0</td>\n",
              "      <td>1</td>\n",
              "      <td>1</td>\n",
              "      <td>NaN</td>\n",
              "      <td>1</td>\n",
              "      <td>NO BROKER FEES. Prism at Park Avenue South is ...</td>\n",
              "      <td>Flatiron</td>\n",
              "      <td>Manhattan</td>\n",
              "      <td>3G</td>\n",
              "      <td>3.0</td>\n",
              "      <td>G</td>\n",
              "      <td>6722</td>\n",
              "      <td>0</td>\n",
              "    </tr>\n",
              "  </tbody>\n",
              "</table>\n",
              "</div>"
            ],
            "text/plain": [
              "   rental_id addr_unit  building_id  ...  line  Count  NumParks\n",
              "0    7455565      #RR1       399352  ...    RR   3741         0\n",
              "1    7473295       #2R       298804  ...     R   1076         0\n",
              "2    7459804      #713        55336  ...    13   9365         2\n",
              "3    7456330       #4B      1251607  ...     B   4363         0\n",
              "4    7443595       #3G     17965342  ...     G   6722         0\n",
              "\n",
              "[5 rows x 41 columns]"
            ]
          },
          "metadata": {
            "tags": []
          },
          "execution_count": 274
        }
      ]
    },
    {
      "cell_type": "markdown",
      "metadata": {
        "id": "L1Myw4_pzGpf",
        "colab_type": "text"
      },
      "source": [
        "**TRAINING**"
      ]
    },
    {
      "cell_type": "code",
      "metadata": {
        "id": "n7WfTTAWzMKQ",
        "colab_type": "code",
        "colab": {}
      },
      "source": [
        "import numpy as np\n",
        "import pandas as pd\n",
        "import matplotlib.pyplot as plt\n",
        "\n",
        "from sklearn.metrics import mean_squared_error\n",
        "from sklearn.ensemble import RandomForestRegressor\n",
        "\n",
        "from google.colab import drive\n",
        "\n",
        "%matplotlib inline"
      ],
      "execution_count": 0,
      "outputs": []
    },
    {
      "cell_type": "code",
      "metadata": {
        "id": "2fABWoAZzUgH",
        "colab_type": "code",
        "outputId": "8e401f26-bb80-4fe5-840d-fe98bfc01930",
        "colab": {
          "base_uri": "https://localhost:8080/",
          "height": 35
        }
      },
      "source": [
        "drive.mount('drive')"
      ],
      "execution_count": 276,
      "outputs": [
        {
          "output_type": "stream",
          "text": [
            "Drive already mounted at drive; to attempt to forcibly remount, call drive.mount(\"drive\", force_remount=True).\n"
          ],
          "name": "stdout"
        }
      ]
    },
    {
      "cell_type": "code",
      "metadata": {
        "id": "uCWAnbVdzgDQ",
        "colab_type": "code",
        "colab": {}
      },
      "source": [
        "train_df = pd.read_csv('https://grantmlong.com/data/SE_rents2018_train.csv', index_col=0)\n",
        "test_df = pd.read_csv('https://grantmlong.com/data/SE_rents2018_test1.csv', index_col=0)"
      ],
      "execution_count": 0,
      "outputs": []
    },
    {
      "cell_type": "code",
      "metadata": {
        "id": "wSwF1yOcO5Ze",
        "colab_type": "code",
        "outputId": "17325b60-e715-426e-fd1c-be5c9b239db4",
        "colab": {
          "base_uri": "https://localhost:8080/",
          "height": 387
        }
      },
      "source": [
        "train_df.head(5)"
      ],
      "execution_count": 278,
      "outputs": [
        {
          "output_type": "execute_result",
          "data": {
            "text/html": [
              "<div>\n",
              "<style scoped>\n",
              "    .dataframe tbody tr th:only-of-type {\n",
              "        vertical-align: middle;\n",
              "    }\n",
              "\n",
              "    .dataframe tbody tr th {\n",
              "        vertical-align: top;\n",
              "    }\n",
              "\n",
              "    .dataframe thead th {\n",
              "        text-align: right;\n",
              "    }\n",
              "</style>\n",
              "<table border=\"1\" class=\"dataframe\">\n",
              "  <thead>\n",
              "    <tr style=\"text-align: right;\">\n",
              "      <th></th>\n",
              "      <th>addr_unit</th>\n",
              "      <th>building_id</th>\n",
              "      <th>bedrooms</th>\n",
              "      <th>bathrooms</th>\n",
              "      <th>size_sqft</th>\n",
              "      <th>created_at</th>\n",
              "      <th>addr_street</th>\n",
              "      <th>addr_city</th>\n",
              "      <th>addr_zip</th>\n",
              "      <th>addr_lat</th>\n",
              "      <th>addr_lon</th>\n",
              "      <th>bin</th>\n",
              "      <th>bbl</th>\n",
              "      <th>floor_count</th>\n",
              "      <th>year_built</th>\n",
              "      <th>min_to_subway</th>\n",
              "      <th>has_doorman</th>\n",
              "      <th>has_elevator</th>\n",
              "      <th>has_fireplace</th>\n",
              "      <th>has_dishwasher</th>\n",
              "      <th>is_furnished</th>\n",
              "      <th>has_gym</th>\n",
              "      <th>allows_pets</th>\n",
              "      <th>has_washer_dryer</th>\n",
              "      <th>has_garage</th>\n",
              "      <th>has_roofdeck</th>\n",
              "      <th>has_concierge</th>\n",
              "      <th>has_pool</th>\n",
              "      <th>has_garden</th>\n",
              "      <th>has_childrens_playroom</th>\n",
              "      <th>rent</th>\n",
              "      <th>no_fee</th>\n",
              "      <th>description</th>\n",
              "      <th>neighborhood</th>\n",
              "      <th>borough</th>\n",
              "      <th>unit</th>\n",
              "      <th>floornumber</th>\n",
              "      <th>line</th>\n",
              "    </tr>\n",
              "    <tr>\n",
              "      <th>rental_id</th>\n",
              "      <th></th>\n",
              "      <th></th>\n",
              "      <th></th>\n",
              "      <th></th>\n",
              "      <th></th>\n",
              "      <th></th>\n",
              "      <th></th>\n",
              "      <th></th>\n",
              "      <th></th>\n",
              "      <th></th>\n",
              "      <th></th>\n",
              "      <th></th>\n",
              "      <th></th>\n",
              "      <th></th>\n",
              "      <th></th>\n",
              "      <th></th>\n",
              "      <th></th>\n",
              "      <th></th>\n",
              "      <th></th>\n",
              "      <th></th>\n",
              "      <th></th>\n",
              "      <th></th>\n",
              "      <th></th>\n",
              "      <th></th>\n",
              "      <th></th>\n",
              "      <th></th>\n",
              "      <th></th>\n",
              "      <th></th>\n",
              "      <th></th>\n",
              "      <th></th>\n",
              "      <th></th>\n",
              "      <th></th>\n",
              "      <th></th>\n",
              "      <th></th>\n",
              "      <th></th>\n",
              "      <th></th>\n",
              "      <th></th>\n",
              "      <th></th>\n",
              "    </tr>\n",
              "  </thead>\n",
              "  <tbody>\n",
              "    <tr>\n",
              "      <th>7236931</th>\n",
              "      <td>#22A</td>\n",
              "      <td>551248</td>\n",
              "      <td>4</td>\n",
              "      <td>3.0</td>\n",
              "      <td>1300.0</td>\n",
              "      <td>2018-06-04 16:31:06</td>\n",
              "      <td>645 OCEAN AVENUE</td>\n",
              "      <td>Brooklyn</td>\n",
              "      <td>11226</td>\n",
              "      <td>40.646982</td>\n",
              "      <td>-73.960065</td>\n",
              "      <td>3117619.0</td>\n",
              "      <td>3051240001</td>\n",
              "      <td>6.0</td>\n",
              "      <td>1929.0</td>\n",
              "      <td>3.3500</td>\n",
              "      <td>0</td>\n",
              "      <td>1</td>\n",
              "      <td>0</td>\n",
              "      <td>1</td>\n",
              "      <td>0</td>\n",
              "      <td>0</td>\n",
              "      <td>1</td>\n",
              "      <td>1</td>\n",
              "      <td>0</td>\n",
              "      <td>0</td>\n",
              "      <td>0</td>\n",
              "      <td>0</td>\n",
              "      <td>0</td>\n",
              "      <td>0</td>\n",
              "      <td>3925</td>\n",
              "      <td>1</td>\n",
              "      <td>MAGNIFICENT GUT RENOVATED 4 BEDROOM 3 BATHROOM...</td>\n",
              "      <td>Flatbush</td>\n",
              "      <td>Brooklyn</td>\n",
              "      <td>22A</td>\n",
              "      <td>NaN</td>\n",
              "      <td>NaN</td>\n",
              "    </tr>\n",
              "    <tr>\n",
              "      <th>7331920</th>\n",
              "      <td>#406</td>\n",
              "      <td>3373</td>\n",
              "      <td>0</td>\n",
              "      <td>1.0</td>\n",
              "      <td>475.0</td>\n",
              "      <td>2018-07-03 20:11:43</td>\n",
              "      <td>93 WORTH STREET</td>\n",
              "      <td>New York</td>\n",
              "      <td>10013</td>\n",
              "      <td>40.716599</td>\n",
              "      <td>-74.004799</td>\n",
              "      <td>1001883.0</td>\n",
              "      <td>1001737504</td>\n",
              "      <td>17.0</td>\n",
              "      <td>2014.0</td>\n",
              "      <td>3.2333</td>\n",
              "      <td>1</td>\n",
              "      <td>1</td>\n",
              "      <td>0</td>\n",
              "      <td>1</td>\n",
              "      <td>0</td>\n",
              "      <td>1</td>\n",
              "      <td>1</td>\n",
              "      <td>1</td>\n",
              "      <td>0</td>\n",
              "      <td>1</td>\n",
              "      <td>1</td>\n",
              "      <td>0</td>\n",
              "      <td>0</td>\n",
              "      <td>0</td>\n",
              "      <td>3350</td>\n",
              "      <td>0</td>\n",
              "      <td>Want to live in the hottest neighborhood in to...</td>\n",
              "      <td>Tribeca</td>\n",
              "      <td>Manhattan</td>\n",
              "      <td>406</td>\n",
              "      <td>4.0</td>\n",
              "      <td>06</td>\n",
              "    </tr>\n",
              "    <tr>\n",
              "      <th>7139224</th>\n",
              "      <td>#18A</td>\n",
              "      <td>70747</td>\n",
              "      <td>3</td>\n",
              "      <td>3.0</td>\n",
              "      <td>1886.0</td>\n",
              "      <td>2018-05-02 16:10:27</td>\n",
              "      <td>305 EAST 51 STREET</td>\n",
              "      <td>New York</td>\n",
              "      <td>10022</td>\n",
              "      <td>40.755402</td>\n",
              "      <td>-73.967598</td>\n",
              "      <td>1039676.0</td>\n",
              "      <td>1013440001</td>\n",
              "      <td>33.0</td>\n",
              "      <td>2013.0</td>\n",
              "      <td>3.0500</td>\n",
              "      <td>1</td>\n",
              "      <td>1</td>\n",
              "      <td>0</td>\n",
              "      <td>1</td>\n",
              "      <td>0</td>\n",
              "      <td>1</td>\n",
              "      <td>1</td>\n",
              "      <td>0</td>\n",
              "      <td>1</td>\n",
              "      <td>0</td>\n",
              "      <td>0</td>\n",
              "      <td>1</td>\n",
              "      <td>1</td>\n",
              "      <td>0</td>\n",
              "      <td>11500</td>\n",
              "      <td>0</td>\n",
              "      <td>High floor totally renovated 3 bedrooms, 3 bat...</td>\n",
              "      <td>Midtown East</td>\n",
              "      <td>Manhattan</td>\n",
              "      <td>18A</td>\n",
              "      <td>18.0</td>\n",
              "      <td>A</td>\n",
              "    </tr>\n",
              "    <tr>\n",
              "      <th>7364827</th>\n",
              "      <td>#23E</td>\n",
              "      <td>42076</td>\n",
              "      <td>1</td>\n",
              "      <td>1.0</td>\n",
              "      <td>827.0</td>\n",
              "      <td>2018-07-13 16:06:55</td>\n",
              "      <td>70 WEST 37TH STREET</td>\n",
              "      <td>New York</td>\n",
              "      <td>10018</td>\n",
              "      <td>40.751301</td>\n",
              "      <td>-73.986298</td>\n",
              "      <td>1015919.0</td>\n",
              "      <td>1008380001</td>\n",
              "      <td>24.0</td>\n",
              "      <td>2019.0</td>\n",
              "      <td>2.0000</td>\n",
              "      <td>1</td>\n",
              "      <td>1</td>\n",
              "      <td>0</td>\n",
              "      <td>1</td>\n",
              "      <td>0</td>\n",
              "      <td>1</td>\n",
              "      <td>1</td>\n",
              "      <td>0</td>\n",
              "      <td>1</td>\n",
              "      <td>1</td>\n",
              "      <td>1</td>\n",
              "      <td>0</td>\n",
              "      <td>0</td>\n",
              "      <td>0</td>\n",
              "      <td>3772</td>\n",
              "      <td>1</td>\n",
              "      <td>**SHORT TERM LEASES AVAILABLE**\\n\\n****Photogr...</td>\n",
              "      <td>Midtown South</td>\n",
              "      <td>Manhattan</td>\n",
              "      <td>23E</td>\n",
              "      <td>23.0</td>\n",
              "      <td>E</td>\n",
              "    </tr>\n",
              "    <tr>\n",
              "      <th>7242151</th>\n",
              "      <td>#3B</td>\n",
              "      <td>319156</td>\n",
              "      <td>3</td>\n",
              "      <td>1.0</td>\n",
              "      <td>1200.0</td>\n",
              "      <td>2018-06-05 16:35:40</td>\n",
              "      <td>43 MAC DONOUGH STREET</td>\n",
              "      <td>Brooklyn</td>\n",
              "      <td>11216</td>\n",
              "      <td>40.681132</td>\n",
              "      <td>-73.944678</td>\n",
              "      <td>3053335.0</td>\n",
              "      <td>3018510053</td>\n",
              "      <td>4.0</td>\n",
              "      <td>1931.0</td>\n",
              "      <td>2.1333</td>\n",
              "      <td>0</td>\n",
              "      <td>0</td>\n",
              "      <td>0</td>\n",
              "      <td>0</td>\n",
              "      <td>0</td>\n",
              "      <td>0</td>\n",
              "      <td>1</td>\n",
              "      <td>0</td>\n",
              "      <td>0</td>\n",
              "      <td>0</td>\n",
              "      <td>0</td>\n",
              "      <td>0</td>\n",
              "      <td>0</td>\n",
              "      <td>0</td>\n",
              "      <td>2595</td>\n",
              "      <td>1</td>\n",
              "      <td>This is a Huuge 3 bedroom apt. located in a pr...</td>\n",
              "      <td>Bedford-Stuyvesant</td>\n",
              "      <td>Brooklyn</td>\n",
              "      <td>3B</td>\n",
              "      <td>3.0</td>\n",
              "      <td>B</td>\n",
              "    </tr>\n",
              "  </tbody>\n",
              "</table>\n",
              "</div>"
            ],
            "text/plain": [
              "          addr_unit  building_id  bedrooms  ...  unit  floornumber line\n",
              "rental_id                                   ...                        \n",
              "7236931        #22A       551248         4  ...   22A          NaN  NaN\n",
              "7331920        #406         3373         0  ...   406          4.0   06\n",
              "7139224        #18A        70747         3  ...   18A         18.0    A\n",
              "7364827        #23E        42076         1  ...   23E         23.0    E\n",
              "7242151         #3B       319156         3  ...    3B          3.0    B\n",
              "\n",
              "[5 rows x 38 columns]"
            ]
          },
          "metadata": {
            "tags": []
          },
          "execution_count": 278
        }
      ]
    },
    {
      "cell_type": "code",
      "metadata": {
        "id": "Jf33E2eMOlLv",
        "colab_type": "code",
        "colab": {}
      },
      "source": [
        "train_df = train_df.join(restaurant_df.set_index('Zipcode'), on='addr_zip')\n",
        "train_df = train_df.join(park_df.set_index('Zipcode'), on='addr_zip')"
      ],
      "execution_count": 0,
      "outputs": []
    },
    {
      "cell_type": "code",
      "metadata": {
        "id": "DTmdPIb9zkR5",
        "colab_type": "code",
        "colab": {}
      },
      "source": [
        "# extract usable features\n",
        "feature_cols = [\n",
        "    'bedrooms', 'bathrooms', 'min_to_subway', \n",
        "    'size_sqft', 'Count', 'NumParks'\n",
        "]\n",
        "train_features = train_df[feature_cols] \n",
        "\n",
        "# impute missing values with medians\n",
        "train_features = train_features.fillna(train_features.median(), axis=0)\n",
        "\n",
        "# construct target vector\n",
        "train_target = train_df['rent']"
      ],
      "execution_count": 0,
      "outputs": []
    },
    {
      "cell_type": "code",
      "metadata": {
        "id": "mIyCs7oWzlaU",
        "colab_type": "code",
        "outputId": "4f37456c-ad76-42a0-e519-a85dd40cfaaf",
        "colab": {
          "base_uri": "https://localhost:8080/",
          "height": 141
        }
      },
      "source": [
        "#random forest regressor (1000 decision trees)\n",
        "rf = RandomForestRegressor(n_estimators = 1000, random_state = 42)\n",
        "rf.fit(train_features, train_target) # train the model on training data"
      ],
      "execution_count": 281,
      "outputs": [
        {
          "output_type": "execute_result",
          "data": {
            "text/plain": [
              "RandomForestRegressor(bootstrap=True, criterion='mse', max_depth=None,\n",
              "                      max_features='auto', max_leaf_nodes=None,\n",
              "                      min_impurity_decrease=0.0, min_impurity_split=None,\n",
              "                      min_samples_leaf=1, min_samples_split=2,\n",
              "                      min_weight_fraction_leaf=0.0, n_estimators=1000,\n",
              "                      n_jobs=None, oob_score=False, random_state=42, verbose=0,\n",
              "                      warm_start=False)"
            ]
          },
          "metadata": {
            "tags": []
          },
          "execution_count": 281
        }
      ]
    },
    {
      "cell_type": "code",
      "metadata": {
        "id": "pn9LyrKlzoW2",
        "colab_type": "code",
        "colab": {}
      },
      "source": [
        "train_labels = np.array(train_target)"
      ],
      "execution_count": 0,
      "outputs": []
    },
    {
      "cell_type": "code",
      "metadata": {
        "id": "IBjZD2tbzrA3",
        "colab_type": "code",
        "colab": {}
      },
      "source": [
        "from sklearn.model_selection import train_test_split\n",
        "# Split the data into training and testing sets\n",
        "train_features, test_features, train_labels, test_labels = train_test_split(train_features, train_labels, test_size = 0.25, random_state = 42)"
      ],
      "execution_count": 0,
      "outputs": []
    },
    {
      "cell_type": "code",
      "metadata": {
        "id": "jGKELZs-zt7F",
        "colab_type": "code",
        "outputId": "cdfbdb16-a034-48f2-cd10-69dfb3cc5087",
        "colab": {
          "base_uri": "https://localhost:8080/",
          "height": 52
        }
      },
      "source": [
        "# Use the forest's predict method on the test data\n",
        "predictions = rf.predict(test_features)\n",
        "# Calculate the absolute errors\n",
        "errors = abs(predictions - test_labels)\n",
        "# Print out the mean absolute error (mae)\n",
        "print('Mean Absolute Error:', round(np.mean(errors), 2), 'degrees.')\n",
        "\n",
        "mape = np.mean(100 * (errors / test_labels))\n",
        "accuracy = 100 - mape\n",
        "print('Accuracy:', round(accuracy, 2), '%.')\n",
        "\n",
        "# mean_squared_error(test_df['rent'], train_df['rent'])"
      ],
      "execution_count": 284,
      "outputs": [
        {
          "output_type": "stream",
          "text": [
            "Mean Absolute Error: 224.47 degrees.\n",
            "Accuracy: 94.5 %.\n"
          ],
          "name": "stdout"
        }
      ]
    },
    {
      "cell_type": "code",
      "metadata": {
        "id": "Z0_SVWNHzxuA",
        "colab_type": "code",
        "outputId": "3c7b2319-e45b-42bc-8fa7-d45222d6709c",
        "colab": {
          "base_uri": "https://localhost:8080/",
          "height": 35
        }
      },
      "source": [
        "master_df = train_df.append(test_df, sort=False)\n",
        "\n",
        "master_features = master_df[feature_cols].fillna(master_df[feature_cols].median(), axis=0)\n",
        "master_target = master_df['rent']\n",
        "\n",
        "# Calculate mean absolute percentage error (MAPE)\n",
        "mape = 100 * (errors / test_labels)\n",
        "# Calculate and display accuracy\n",
        "accuracy = 100 - np.mean(mape)\n",
        "print('Accuracy:', round(accuracy, 2), '%.')"
      ],
      "execution_count": 285,
      "outputs": [
        {
          "output_type": "stream",
          "text": [
            "Accuracy: 94.5 %.\n"
          ],
          "name": "stdout"
        }
      ]
    },
    {
      "cell_type": "code",
      "metadata": {
        "id": "eCTFgQaKz05h",
        "colab_type": "code",
        "outputId": "b32f07bb-0c52-4e1d-95b6-2b120d313f86",
        "colab": {
          "base_uri": "https://localhost:8080/",
          "height": 35
        }
      },
      "source": [
        "submit2_features = join_df[feature_cols].fillna(master_df[feature_cols].median(), axis=0)\n",
        "join_df['predictions'] = rf.predict(submit2_features)\n",
        "submit2_df = join_df[['rental_id', 'predictions']]\n",
        "submit2_df.set_index('rental_id', inplace = True)\n",
        "\n",
        "submit2_df.to_csv('submission2.csv', header=True)\n",
        "!cp submission2.csv drive/My\\ Drive/ #saving to drive\n",
        "join_df['rents'] = np.ones(join_df['predictions'].shape) * master_target.median()\n",
        "mean_squared_error(join_df['predictions'], join_df['rents'])"
      ],
      "execution_count": 286,
      "outputs": [
        {
          "output_type": "execute_result",
          "data": {
            "text/plain": [
              "4589112.331324879"
            ]
          },
          "metadata": {
            "tags": []
          },
          "execution_count": 286
        }
      ]
    },
    {
      "cell_type": "markdown",
      "metadata": {
        "id": "oZ1ywT1XYpjF",
        "colab_type": "text"
      },
      "source": [
        "**Visualization**"
      ]
    },
    {
      "cell_type": "code",
      "metadata": {
        "id": "TodX_TZyYwSI",
        "colab_type": "code",
        "outputId": "07a0d796-12ef-4a7f-8878-4f4b6c89f52d",
        "colab": {
          "base_uri": "https://localhost:8080/",
          "height": 283
        }
      },
      "source": [
        "join_df['predictions'].hist(bins=10)"
      ],
      "execution_count": 287,
      "outputs": [
        {
          "output_type": "execute_result",
          "data": {
            "text/plain": [
              "<matplotlib.axes._subplots.AxesSubplot at 0x7f0189b556a0>"
            ]
          },
          "metadata": {
            "tags": []
          },
          "execution_count": 287
        },
        {
          "output_type": "display_data",
          "data": {
            "image/png": "[encoded data removed]",
            "text/plain": [
              "<Figure size 432x288 with 1 Axes>"
            ]
          },
          "metadata": {
            "tags": []
          }
        }
      ]
    },
    {
      "cell_type": "code",
      "metadata": {
        "id": "nzg4CVwIXZFQ",
        "colab_type": "code",
        "colab": {}
      },
      "source": [
        ""
      ],
      "execution_count": 0,
      "outputs": []
    }
  ]
}