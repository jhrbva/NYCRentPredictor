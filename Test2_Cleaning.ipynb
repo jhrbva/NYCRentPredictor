{
  "nbformat": 4,
  "nbformat_minor": 0,
  "metadata": {
    "colab": {
      "name": "Test2_Cleaning.ipynb",
      "provenance": [],
      "collapsed_sections": []
    },
    "kernelspec": {
      "name": "python3",
      "display_name": "Python 3"
    }
  },
  "cells": [
    {
      "cell_type": "code",
      "metadata": {
        "id": "9-x0gfUJGt8-",
        "colab_type": "code",
        "colab": {}
      },
      "source": [
        "import pandas as pd\n",
        "import requests\n",
        "\n",
        "%matplotlib inline"
      ],
      "execution_count": 0,
      "outputs": []
    },
    {
      "cell_type": "markdown",
      "metadata": {
        "id": "-0jqCmP5-U1n",
        "colab_type": "text"
      },
      "source": [
        ""
      ]
    },
    {
      "cell_type": "code",
      "metadata": {
        "id": "tjq5NWubHYsi",
        "colab_type": "code",
        "colab": {}
      },
      "source": [
        "df = pd.read_csv('https://grantmlong.com/data/SE_rents2018_test2.csv', index_col=0)"
      ],
      "execution_count": 0,
      "outputs": []
    },
    {
      "cell_type": "code",
      "metadata": {
        "id": "fdigQV91Hdbm",
        "colab_type": "code",
        "outputId": "d28c57e8-9501-47da-ad7e-661bfd1c24cb",
        "colab": {
          "base_uri": "https://localhost:8080/",
          "height": 35
        }
      },
      "source": [
        "df.shape"
      ],
      "execution_count": 17,
      "outputs": [
        {
          "output_type": "execute_result",
          "data": {
            "text/plain": [
              "(2000, 38)"
            ]
          },
          "metadata": {
            "tags": []
          },
          "execution_count": 17
        }
      ]
    },
    {
      "cell_type": "code",
      "metadata": {
        "id": "yCO5mGmxXiAS",
        "colab_type": "code",
        "outputId": "1c6a3d5b-ae47-4475-9045-0469d89ef242",
        "colab": {
          "base_uri": "https://localhost:8080/",
          "height": 455
        }
      },
      "source": [
        "df.sample(5)"
      ],
      "execution_count": 18,
      "outputs": [
        {
          "output_type": "execute_result",
          "data": {
            "text/html": [
              "<div>\n",
              "<style scoped>\n",
              "    .dataframe tbody tr th:only-of-type {\n",
              "        vertical-align: middle;\n",
              "    }\n",
              "\n",
              "    .dataframe tbody tr th {\n",
              "        vertical-align: top;\n",
              "    }\n",
              "\n",
              "    .dataframe thead th {\n",
              "        text-align: right;\n",
              "    }\n",
              "</style>\n",
              "<table border=\"1\" class=\"dataframe\">\n",
              "  <thead>\n",
              "    <tr style=\"text-align: right;\">\n",
              "      <th></th>\n",
              "      <th>addr_unit</th>\n",
              "      <th>building_id</th>\n",
              "      <th>bedrooms</th>\n",
              "      <th>bathrooms</th>\n",
              "      <th>size_sqft</th>\n",
              "      <th>created_at</th>\n",
              "      <th>addr_street</th>\n",
              "      <th>addr_city</th>\n",
              "      <th>addr_zip</th>\n",
              "      <th>addr_lat</th>\n",
              "      <th>addr_lon</th>\n",
              "      <th>bin</th>\n",
              "      <th>bbl</th>\n",
              "      <th>floor_count</th>\n",
              "      <th>year_built</th>\n",
              "      <th>min_to_subway</th>\n",
              "      <th>has_doorman</th>\n",
              "      <th>has_elevator</th>\n",
              "      <th>has_fireplace</th>\n",
              "      <th>has_dishwasher</th>\n",
              "      <th>is_furnished</th>\n",
              "      <th>has_gym</th>\n",
              "      <th>allows_pets</th>\n",
              "      <th>has_washer_dryer</th>\n",
              "      <th>has_garage</th>\n",
              "      <th>has_roofdeck</th>\n",
              "      <th>has_concierge</th>\n",
              "      <th>has_pool</th>\n",
              "      <th>has_garden</th>\n",
              "      <th>has_childrens_playroom</th>\n",
              "      <th>rent</th>\n",
              "      <th>no_fee</th>\n",
              "      <th>description</th>\n",
              "      <th>neighborhood</th>\n",
              "      <th>borough</th>\n",
              "      <th>unit</th>\n",
              "      <th>floornumber</th>\n",
              "      <th>line</th>\n",
              "    </tr>\n",
              "    <tr>\n",
              "      <th>rental_id</th>\n",
              "      <th></th>\n",
              "      <th></th>\n",
              "      <th></th>\n",
              "      <th></th>\n",
              "      <th></th>\n",
              "      <th></th>\n",
              "      <th></th>\n",
              "      <th></th>\n",
              "      <th></th>\n",
              "      <th></th>\n",
              "      <th></th>\n",
              "      <th></th>\n",
              "      <th></th>\n",
              "      <th></th>\n",
              "      <th></th>\n",
              "      <th></th>\n",
              "      <th></th>\n",
              "      <th></th>\n",
              "      <th></th>\n",
              "      <th></th>\n",
              "      <th></th>\n",
              "      <th></th>\n",
              "      <th></th>\n",
              "      <th></th>\n",
              "      <th></th>\n",
              "      <th></th>\n",
              "      <th></th>\n",
              "      <th></th>\n",
              "      <th></th>\n",
              "      <th></th>\n",
              "      <th></th>\n",
              "      <th></th>\n",
              "      <th></th>\n",
              "      <th></th>\n",
              "      <th></th>\n",
              "      <th></th>\n",
              "      <th></th>\n",
              "      <th></th>\n",
              "    </tr>\n",
              "  </thead>\n",
              "  <tbody>\n",
              "    <tr>\n",
              "      <th>7485466</th>\n",
              "      <td>#4D</td>\n",
              "      <td>83968</td>\n",
              "      <td>1</td>\n",
              "      <td>1.0</td>\n",
              "      <td>587.0</td>\n",
              "      <td>2018-08-17 10:09:22</td>\n",
              "      <td>182 EAST 95 STREET</td>\n",
              "      <td>New York</td>\n",
              "      <td>10128</td>\n",
              "      <td>40.784401</td>\n",
              "      <td>-73.950302</td>\n",
              "      <td>1087328.0</td>\n",
              "      <td>1015230034</td>\n",
              "      <td>29.0</td>\n",
              "      <td>1980.0</td>\n",
              "      <td>1.7333</td>\n",
              "      <td>1</td>\n",
              "      <td>1</td>\n",
              "      <td>0</td>\n",
              "      <td>1</td>\n",
              "      <td>0</td>\n",
              "      <td>0</td>\n",
              "      <td>0</td>\n",
              "      <td>0</td>\n",
              "      <td>0</td>\n",
              "      <td>1</td>\n",
              "      <td>1</td>\n",
              "      <td>0</td>\n",
              "      <td>0</td>\n",
              "      <td>0</td>\n",
              "      <td>NaN</td>\n",
              "      <td>1</td>\n",
              "      <td>White cabinetry\\nStainless steel appliances\\nB...</td>\n",
              "      <td>Upper East Side</td>\n",
              "      <td>Manhattan</td>\n",
              "      <td>4D</td>\n",
              "      <td>4.0</td>\n",
              "      <td>D</td>\n",
              "    </tr>\n",
              "    <tr>\n",
              "      <th>7475419</th>\n",
              "      <td>#2</td>\n",
              "      <td>243427</td>\n",
              "      <td>2</td>\n",
              "      <td>1.0</td>\n",
              "      <td>800.0</td>\n",
              "      <td>2018-08-14 15:28:20</td>\n",
              "      <td>796 STERLING PLACE</td>\n",
              "      <td>Brooklyn</td>\n",
              "      <td>11216</td>\n",
              "      <td>40.672311</td>\n",
              "      <td>-73.952238</td>\n",
              "      <td>3397383.0</td>\n",
              "      <td>3012470011</td>\n",
              "      <td>5.0</td>\n",
              "      <td>2007.0</td>\n",
              "      <td>3.1833</td>\n",
              "      <td>1</td>\n",
              "      <td>1</td>\n",
              "      <td>0</td>\n",
              "      <td>0</td>\n",
              "      <td>0</td>\n",
              "      <td>0</td>\n",
              "      <td>0</td>\n",
              "      <td>0</td>\n",
              "      <td>0</td>\n",
              "      <td>0</td>\n",
              "      <td>0</td>\n",
              "      <td>0</td>\n",
              "      <td>0</td>\n",
              "      <td>0</td>\n",
              "      <td>NaN</td>\n",
              "      <td>0</td>\n",
              "      <td>Landlord PAYS all utilities \\r\\nLocated near a...</td>\n",
              "      <td>Crown Heights</td>\n",
              "      <td>Brooklyn</td>\n",
              "      <td>2</td>\n",
              "      <td>2.0</td>\n",
              "      <td>NaN</td>\n",
              "    </tr>\n",
              "    <tr>\n",
              "      <th>7503373</th>\n",
              "      <td>#2L</td>\n",
              "      <td>384664</td>\n",
              "      <td>1</td>\n",
              "      <td>1.0</td>\n",
              "      <td>800.0</td>\n",
              "      <td>2018-08-23 11:00:33</td>\n",
              "      <td>23 INGRAHAM STREET</td>\n",
              "      <td>Brooklyn</td>\n",
              "      <td>11206</td>\n",
              "      <td>40.707152</td>\n",
              "      <td>-73.932826</td>\n",
              "      <td>3071327.0</td>\n",
              "      <td>3030750030</td>\n",
              "      <td>3.0</td>\n",
              "      <td>1920.0</td>\n",
              "      <td>1.0833</td>\n",
              "      <td>0</td>\n",
              "      <td>0</td>\n",
              "      <td>0</td>\n",
              "      <td>0</td>\n",
              "      <td>0</td>\n",
              "      <td>0</td>\n",
              "      <td>0</td>\n",
              "      <td>0</td>\n",
              "      <td>0</td>\n",
              "      <td>0</td>\n",
              "      <td>0</td>\n",
              "      <td>0</td>\n",
              "      <td>0</td>\n",
              "      <td>0</td>\n",
              "      <td>NaN</td>\n",
              "      <td>1</td>\n",
              "      <td>- $500 processing fee (only if approved).\\r\\n\\...</td>\n",
              "      <td>Williamsburg</td>\n",
              "      <td>Brooklyn</td>\n",
              "      <td>2L</td>\n",
              "      <td>2.0</td>\n",
              "      <td>L</td>\n",
              "    </tr>\n",
              "    <tr>\n",
              "      <th>7454722</th>\n",
              "      <td>#9B</td>\n",
              "      <td>404107</td>\n",
              "      <td>1</td>\n",
              "      <td>1.0</td>\n",
              "      <td>720.0</td>\n",
              "      <td>2018-08-08 00:20:21</td>\n",
              "      <td>358 GROVE STREET</td>\n",
              "      <td>Brooklyn</td>\n",
              "      <td>11237</td>\n",
              "      <td>40.699939</td>\n",
              "      <td>-73.913799</td>\n",
              "      <td>3392234.0</td>\n",
              "      <td>3033287501</td>\n",
              "      <td>13.0</td>\n",
              "      <td>2007.0</td>\n",
              "      <td>1.2500</td>\n",
              "      <td>0</td>\n",
              "      <td>1</td>\n",
              "      <td>0</td>\n",
              "      <td>1</td>\n",
              "      <td>0</td>\n",
              "      <td>0</td>\n",
              "      <td>1</td>\n",
              "      <td>0</td>\n",
              "      <td>1</td>\n",
              "      <td>1</td>\n",
              "      <td>0</td>\n",
              "      <td>0</td>\n",
              "      <td>0</td>\n",
              "      <td>0</td>\n",
              "      <td>NaN</td>\n",
              "      <td>1</td>\n",
              "      <td>*WELCOME TO 358 GROVE ST*\\r\\n\\r\\nEXTRA LARGE 1...</td>\n",
              "      <td>Bushwick</td>\n",
              "      <td>Brooklyn</td>\n",
              "      <td>9B</td>\n",
              "      <td>9.0</td>\n",
              "      <td>B</td>\n",
              "    </tr>\n",
              "    <tr>\n",
              "      <th>7439632</th>\n",
              "      <td>#5A</td>\n",
              "      <td>18191641</td>\n",
              "      <td>2</td>\n",
              "      <td>1.0</td>\n",
              "      <td>1200.0</td>\n",
              "      <td>2018-08-03 12:42:00</td>\n",
              "      <td>30 HAVEMEYER STREET</td>\n",
              "      <td>Brooklyn</td>\n",
              "      <td>11211</td>\n",
              "      <td>40.715698</td>\n",
              "      <td>-73.953903</td>\n",
              "      <td>3342013.0</td>\n",
              "      <td>3023220023</td>\n",
              "      <td>0.0</td>\n",
              "      <td>NaN</td>\n",
              "      <td>2.3167</td>\n",
              "      <td>0</td>\n",
              "      <td>0</td>\n",
              "      <td>0</td>\n",
              "      <td>0</td>\n",
              "      <td>0</td>\n",
              "      <td>0</td>\n",
              "      <td>1</td>\n",
              "      <td>0</td>\n",
              "      <td>0</td>\n",
              "      <td>0</td>\n",
              "      <td>0</td>\n",
              "      <td>0</td>\n",
              "      <td>0</td>\n",
              "      <td>0</td>\n",
              "      <td>NaN</td>\n",
              "      <td>0</td>\n",
              "      <td>Large two bedroom apartment in Williamsburg, B...</td>\n",
              "      <td>Williamsburg</td>\n",
              "      <td>Brooklyn</td>\n",
              "      <td>5A</td>\n",
              "      <td>5.0</td>\n",
              "      <td>A</td>\n",
              "    </tr>\n",
              "  </tbody>\n",
              "</table>\n",
              "</div>"
            ],
            "text/plain": [
              "          addr_unit  building_id  bedrooms  ...  unit  floornumber line\n",
              "rental_id                                   ...                        \n",
              "7485466         #4D        83968         1  ...    4D          4.0    D\n",
              "7475419          #2       243427         2  ...     2          2.0  NaN\n",
              "7503373         #2L       384664         1  ...    2L          2.0    L\n",
              "7454722         #9B       404107         1  ...    9B          9.0    B\n",
              "7439632         #5A     18191641         2  ...    5A          5.0    A\n",
              "\n",
              "[5 rows x 38 columns]"
            ]
          },
          "metadata": {
            "tags": []
          },
          "execution_count": 18
        }
      ]
    },
    {
      "cell_type": "markdown",
      "metadata": {
        "id": "0IOJx5x3Im05",
        "colab_type": "text"
      },
      "source": [
        "Columns in the data frame"
      ]
    },
    {
      "cell_type": "code",
      "metadata": {
        "id": "7lcOrfBFxsIx",
        "colab_type": "code",
        "outputId": "7ac6760f-97e8-4047-8848-0161d4df72a5",
        "colab": {
          "base_uri": "https://localhost:8080/",
          "height": 177
        }
      },
      "source": [
        "df.columns"
      ],
      "execution_count": 19,
      "outputs": [
        {
          "output_type": "execute_result",
          "data": {
            "text/plain": [
              "Index(['addr_unit', 'building_id', 'bedrooms', 'bathrooms', 'size_sqft',\n",
              "       'created_at', 'addr_street', 'addr_city', 'addr_zip', 'addr_lat',\n",
              "       'addr_lon', 'bin', 'bbl', 'floor_count', 'year_built', 'min_to_subway',\n",
              "       'has_doorman', 'has_elevator', 'has_fireplace', 'has_dishwasher',\n",
              "       'is_furnished', 'has_gym', 'allows_pets', 'has_washer_dryer',\n",
              "       'has_garage', 'has_roofdeck', 'has_concierge', 'has_pool', 'has_garden',\n",
              "       'has_childrens_playroom', 'rent', 'no_fee', 'description',\n",
              "       'neighborhood', 'borough', 'unit', 'floornumber', 'line'],\n",
              "      dtype='object')"
            ]
          },
          "metadata": {
            "tags": []
          },
          "execution_count": 19
        }
      ]
    },
    {
      "cell_type": "code",
      "metadata": {
        "id": "GYqMD6jy3Weo",
        "colab_type": "code",
        "outputId": "3db35aac-5f89-44f7-970a-f129ced75b35",
        "colab": {
          "base_uri": "https://localhost:8080/",
          "height": 284
        }
      },
      "source": [
        "df.describe"
      ],
      "execution_count": 20,
      "outputs": [
        {
          "output_type": "execute_result",
          "data": {
            "text/plain": [
              "<bound method NDFrame.describe of           addr_unit  building_id  bedrooms  ...  unit  floornumber line\n",
              "rental_id                                   ...                        \n",
              "7428577         #4F       159457         0  ...    4F          4.0    F\n",
              "7454944         NaN      1579540         2  ...   NaN          NaN  NaN\n",
              "7473595         #1D        64873         1  ...    1D          1.0    D\n",
              "7490488         #5C       546541         2  ...    5C          5.0    C\n",
              "7460896        #11G        10678         1  ...   11G         11.0    G\n",
              "...             ...          ...       ...  ...   ...          ...  ...\n",
              "7451410          #4        86068         0  ...     4          4.0  NaN\n",
              "7493779         #3A        13252         1  ...    3A          3.0    A\n",
              "7474525          #8       223054         1  ...     8          NaN  NaN\n",
              "7507738         #7D       320623         1  ...    7D          NaN  NaN\n",
              "7443274          #5      1242151         1  ...     5          5.0  NaN\n",
              "\n",
              "[2000 rows x 38 columns]>"
            ]
          },
          "metadata": {
            "tags": []
          },
          "execution_count": 20
        }
      ]
    },
    {
      "cell_type": "markdown",
      "metadata": {
        "id": "PMep_M3tKbvG",
        "colab_type": "text"
      },
      "source": [
        "Missing data"
      ]
    },
    {
      "cell_type": "code",
      "metadata": {
        "id": "9egxuPj--pPl",
        "colab_type": "code",
        "outputId": "9a692948-d5a2-4c5b-fc31-3f96698c82d0",
        "colab": {
          "base_uri": "https://localhost:8080/",
          "height": 177
        }
      },
      "source": [
        "# to see all null values in order to see what we need to clean\n",
        "null_columns=df.columns[df.isnull().any()]\n",
        "df[null_columns].isnull().sum()"
      ],
      "execution_count": 21,
      "outputs": [
        {
          "output_type": "execute_result",
          "data": {
            "text/plain": [
              "addr_unit          29\n",
              "year_built         82\n",
              "min_to_subway      16\n",
              "rent             2000\n",
              "neighborhood        1\n",
              "unit               29\n",
              "floornumber       263\n",
              "line              612\n",
              "dtype: int64"
            ]
          },
          "metadata": {
            "tags": []
          },
          "execution_count": 21
        }
      ]
    },
    {
      "cell_type": "markdown",
      "metadata": {
        "id": "R3F302ZUK1r8",
        "colab_type": "text"
      },
      "source": [
        "Substituting NULLs\n"
      ]
    },
    {
      "cell_type": "code",
      "metadata": {
        "id": "zOvKzsa6K6qz",
        "colab_type": "code",
        "colab": {}
      },
      "source": [
        "yb_mean = df['year_built'].mean()\n",
        "df['year_built'].fillna(yb_mean, inplace=True)"
      ],
      "execution_count": 0,
      "outputs": []
    },
    {
      "cell_type": "code",
      "metadata": {
        "id": "dEv8T51wMX2c",
        "colab_type": "code",
        "outputId": "20753b53-83f7-401e-a56b-b1b41568ab40",
        "colab": {
          "base_uri": "https://localhost:8080/",
          "height": 728
        }
      },
      "source": [
        "#making a table only with the observations that are missing min_to_subway\n",
        "null_cols = df['min_to_subway'].isnull()\n",
        "null_min_to_subway = df[df[\"min_to_subway\"].isnull()][null_cols]\n",
        "print(null_min_to_subway)\n",
        "\n",
        "addresses = null_min_to_subway['addr_street'] # null_min_to_subway['addr_zip']\n",
        "print(addresses)"
      ],
      "execution_count": 24,
      "outputs": [
        {
          "output_type": "stream",
          "text": [
            "          addr_unit  building_id  bedrooms  ...  unit  floornumber line\n",
            "rental_id                                   ...                        \n",
            "7496308         #1H     18742198         4  ...    1H          1.0    H\n",
            "7503712         #1C     18742195         4  ...    1C          1.0    C\n",
            "7510942        #801      4141429         0  ...   801          8.0   01\n",
            "7488766         #3E     18771601         1  ...    3E          3.0    E\n",
            "7456630         #2C     18742201         4  ...    2C          2.0    C\n",
            "7508698        #11C     18771595         1  ...   11C         11.0    C\n",
            "7459477         #6A     18771709         2  ...    6A          6.0    A\n",
            "7442641       #APT1     18741022         1  ...  APT1          1.0  APT\n",
            "7482751         #3D     18771274         2  ...    3D          3.0    D\n",
            "7442653       #APT1     18741019         1  ...  APT1          1.0  APT\n",
            "7489969          #B     18772159         4  ...     B          NaN  NaN\n",
            "7449538          #2     18733351         2  ...     2          2.0  NaN\n",
            "7495012         #2F     18758467         2  ...    2F          2.0    F\n",
            "7504726        #5BB     18758467         1  ...   5BB          5.0   BB\n",
            "7516396         #8O     18733615         1  ...    8O          8.0    O\n",
            "7447246         #3F     18771178         2  ...    3F          3.0    F\n",
            "\n",
            "[16 rows x 38 columns]\n",
            "rental_id\n",
            "7496308      7 LEXINGTON AVENUE\n",
            "7503712     7A LEXINGTON AVENUE\n",
            "7510942        153-30 89 AVENUE\n",
            "7488766      3440 GUIDER AVENUE\n",
            "7456630      5 LEXINGTON AVENUE\n",
            "7508698        131-05 40TH ROAD\n",
            "7459477     241 ATLANTIC AVENUE\n",
            "7442641        133 ELSON STREET\n",
            "7482751      509 PACIFIC STREET\n",
            "7442653        131 ELSON STREET\n",
            "7489969     1014 DECATUR STREET\n",
            "7449538    456 EAST 29TH STREET\n",
            "7495012         60 BERRY STREET\n",
            "7504726         60 BERRY STREET\n",
            "7516396            515 9 AVENUE\n",
            "7447246    72 WILLOUGHBY STREET\n",
            "Name: addr_street, dtype: object\n"
          ],
          "name": "stdout"
        },
        {
          "output_type": "stream",
          "text": [
            "/usr/local/lib/python3.6/dist-packages/ipykernel_launcher.py:2: UserWarning: Boolean Series key will be reindexed to match DataFrame index.\n",
            "  \n"
          ],
          "name": "stderr"
        }
      ]
    },
    {
      "cell_type": "code",
      "metadata": {
        "id": "V3VtpVO9rgSV",
        "colab_type": "code",
        "colab": {}
      },
      "source": [
        "# replacing missing data for min to subway\n",
        "df.loc[df.index == 7447246, 'min_to_subway'] = '1'\n",
        "df.loc[df.index == 7516396, 'min_to_subway'] = '11'\n",
        "df.loc[df.index == 7504726, 'min_to_subway'] = '5'\n",
        "df.loc[df.index == 7495012, 'min_to_subway'] = '5'\n",
        "df.loc[df.index == 7449538, 'min_to_subway'] = '2'\n",
        "df.loc[df.index == 7489969, 'min_to_subway'] = '4'\n",
        "df.loc[df.index == 7482751, 'min_to_subway'] = '3'\n",
        "df.loc[df.index == 7496308, 'min_to_subway'] = '6'\n",
        "df.loc[df.index == 7503712, 'min_to_subway'] = '6'\n",
        "df.loc[df.index == 7510942, 'min_to_subway'] = '4'\n",
        "df.loc[df.index == 7488766, 'min_to_subway'] = '6'\n",
        "df.loc[df.index == 7456630, 'min_to_subway'] = '6'\n",
        "df.loc[df.index == 7508698, 'min_to_subway'] = '8'\n",
        "df.loc[df.index == 7459477, 'min_to_subway'] = '5'\n",
        "df.loc[df.index == 7442653, 'min_to_subway'] = '104'\n",
        "df.loc[df.index == 7442641, 'min_to_subway'] = '104'\n",
        "#correcting outliers\n",
        "df.loc[df.index == 7485220, 'min_to_subway'] = '2'\n",
        "df.loc[df.index == 7473829, 'min_to_subway'] = '2'\n"
      ],
      "execution_count": 0,
      "outputs": []
    },
    {
      "cell_type": "code",
      "metadata": {
        "id": "pVvFZ_qr7SFV",
        "colab_type": "code",
        "colab": {}
      },
      "source": [
        "df['min_to_subway'] = pd.to_numeric(df['min_to_subway'])"
      ],
      "execution_count": 0,
      "outputs": []
    },
    {
      "cell_type": "markdown",
      "metadata": {
        "id": "XAeY7bPsNnYo",
        "colab_type": "text"
      },
      "source": [
        "**Training**"
      ]
    },
    {
      "cell_type": "code",
      "metadata": {
        "id": "T-roimakNtDp",
        "colab_type": "code",
        "colab": {}
      },
      "source": [
        "import numpy as np\n",
        "import pandas as pd\n",
        "import matplotlib.pyplot as plt\n",
        "\n",
        "from sklearn.linear_model import LinearRegression\n",
        "from sklearn.metrics import mean_squared_error\n",
        "\n",
        "from google.colab import drive\n",
        "\n",
        "%matplotlib inline"
      ],
      "execution_count": 0,
      "outputs": []
    },
    {
      "cell_type": "code",
      "metadata": {
        "id": "becoP8FjHfqC",
        "colab_type": "code",
        "outputId": "f1a10bfe-3e86-4af2-e19f-69dc83a5f5d3",
        "colab": {
          "base_uri": "https://localhost:8080/",
          "height": 35
        }
      },
      "source": [
        "drive.mount('drive')"
      ],
      "execution_count": 28,
      "outputs": [
        {
          "output_type": "stream",
          "text": [
            "Drive already mounted at drive; to attempt to forcibly remount, call drive.mount(\"drive\", force_remount=True).\n"
          ],
          "name": "stdout"
        }
      ]
    },
    {
      "cell_type": "code",
      "metadata": {
        "id": "VQVVdAOSNwRL",
        "colab_type": "code",
        "colab": {}
      },
      "source": [
        "train_df = pd.read_csv('https://grantmlong.com/data/SE_rents2018_train.csv', index_col=0)\n",
        "test_df = pd.read_csv('https://grantmlong.com/data/SE_rents2018_test1.csv', index_col=0)"
      ],
      "execution_count": 0,
      "outputs": []
    },
    {
      "cell_type": "code",
      "metadata": {
        "id": "3Dz839BARzGJ",
        "colab_type": "code",
        "outputId": "dde6b8bf-e7a6-45c0-9edc-b2310aa2f203",
        "colab": {
          "base_uri": "https://localhost:8080/",
          "height": 1000
        }
      },
      "source": [
        "train_df.sample(5).transpose()"
      ],
      "execution_count": 30,
      "outputs": [
        {
          "output_type": "execute_result",
          "data": {
            "text/html": [
              "<div>\n",
              "<style scoped>\n",
              "    .dataframe tbody tr th:only-of-type {\n",
              "        vertical-align: middle;\n",
              "    }\n",
              "\n",
              "    .dataframe tbody tr th {\n",
              "        vertical-align: top;\n",
              "    }\n",
              "\n",
              "    .dataframe thead th {\n",
              "        text-align: right;\n",
              "    }\n",
              "</style>\n",
              "<table border=\"1\" class=\"dataframe\">\n",
              "  <thead>\n",
              "    <tr style=\"text-align: right;\">\n",
              "      <th>rental_id</th>\n",
              "      <th>7220860</th>\n",
              "      <th>7413952</th>\n",
              "      <th>7148287</th>\n",
              "      <th>7222030</th>\n",
              "      <th>7136911</th>\n",
              "    </tr>\n",
              "  </thead>\n",
              "  <tbody>\n",
              "    <tr>\n",
              "      <th>addr_unit</th>\n",
              "      <td>#1405</td>\n",
              "      <td>#14S</td>\n",
              "      <td>#5C</td>\n",
              "      <td>#15A</td>\n",
              "      <td>#4B</td>\n",
              "    </tr>\n",
              "    <tr>\n",
              "      <th>building_id</th>\n",
              "      <td>40825</td>\n",
              "      <td>337462</td>\n",
              "      <td>817</td>\n",
              "      <td>80428</td>\n",
              "      <td>11893</td>\n",
              "    </tr>\n",
              "    <tr>\n",
              "      <th>bedrooms</th>\n",
              "      <td>1</td>\n",
              "      <td>0</td>\n",
              "      <td>2</td>\n",
              "      <td>1</td>\n",
              "      <td>0</td>\n",
              "    </tr>\n",
              "    <tr>\n",
              "      <th>bathrooms</th>\n",
              "      <td>1</td>\n",
              "      <td>1</td>\n",
              "      <td>1</td>\n",
              "      <td>1</td>\n",
              "      <td>1</td>\n",
              "    </tr>\n",
              "    <tr>\n",
              "      <th>size_sqft</th>\n",
              "      <td>694</td>\n",
              "      <td>472</td>\n",
              "      <td>850</td>\n",
              "      <td>620</td>\n",
              "      <td>0</td>\n",
              "    </tr>\n",
              "    <tr>\n",
              "      <th>created_at</th>\n",
              "      <td>2018-05-30 16:17:54</td>\n",
              "      <td>2018-07-26 18:52:48</td>\n",
              "      <td>2018-05-04 16:12:43</td>\n",
              "      <td>2018-05-30 22:46:35</td>\n",
              "      <td>2018-05-02 09:38:24</td>\n",
              "    </tr>\n",
              "    <tr>\n",
              "      <th>addr_street</th>\n",
              "      <td>37 WEST 21 STREET</td>\n",
              "      <td>180 MYRTLE AVENUE</td>\n",
              "      <td>110 GREENWICH STREET</td>\n",
              "      <td>515 EAST 72 STREET</td>\n",
              "      <td>621 EAST 11 STREET</td>\n",
              "    </tr>\n",
              "    <tr>\n",
              "      <th>addr_city</th>\n",
              "      <td>New York</td>\n",
              "      <td>Brooklyn</td>\n",
              "      <td>New York</td>\n",
              "      <td>New York</td>\n",
              "      <td>New York</td>\n",
              "    </tr>\n",
              "    <tr>\n",
              "      <th>addr_zip</th>\n",
              "      <td>10010</td>\n",
              "      <td>11201</td>\n",
              "      <td>10006</td>\n",
              "      <td>10021</td>\n",
              "      <td>10009</td>\n",
              "    </tr>\n",
              "    <tr>\n",
              "      <th>addr_lat</th>\n",
              "      <td>40.7413</td>\n",
              "      <td>40.6932</td>\n",
              "      <td>40.7087</td>\n",
              "      <td>40.7669</td>\n",
              "      <td>40.7272</td>\n",
              "    </tr>\n",
              "    <tr>\n",
              "      <th>addr_lon</th>\n",
              "      <td>-73.9923</td>\n",
              "      <td>-73.9806</td>\n",
              "      <td>-74.0135</td>\n",
              "      <td>-73.9527</td>\n",
              "      <td>-73.9783</td>\n",
              "    </tr>\n",
              "    <tr>\n",
              "      <th>bin</th>\n",
              "      <td>1.08871e+06</td>\n",
              "      <td>3.39823e+06</td>\n",
              "      <td>1.00105e+06</td>\n",
              "      <td>1.04626e+06</td>\n",
              "      <td>1.00492e+06</td>\n",
              "    </tr>\n",
              "    <tr>\n",
              "      <th>bbl</th>\n",
              "      <td>1008230017</td>\n",
              "      <td>3020610001</td>\n",
              "      <td>1000530033</td>\n",
              "      <td>1014847501</td>\n",
              "      <td>1003940058</td>\n",
              "    </tr>\n",
              "    <tr>\n",
              "      <th>floor_count</th>\n",
              "      <td>15</td>\n",
              "      <td>16</td>\n",
              "      <td>13</td>\n",
              "      <td>40</td>\n",
              "      <td>5</td>\n",
              "    </tr>\n",
              "    <tr>\n",
              "      <th>year_built</th>\n",
              "      <td>2007</td>\n",
              "      <td>2016</td>\n",
              "      <td>1929</td>\n",
              "      <td>1985</td>\n",
              "      <td>1900</td>\n",
              "    </tr>\n",
              "    <tr>\n",
              "      <th>min_to_subway</th>\n",
              "      <td>1.4833</td>\n",
              "      <td>3.5</td>\n",
              "      <td>0.75</td>\n",
              "      <td>7.0167</td>\n",
              "      <td>5.9</td>\n",
              "    </tr>\n",
              "    <tr>\n",
              "      <th>has_doorman</th>\n",
              "      <td>1</td>\n",
              "      <td>1</td>\n",
              "      <td>0</td>\n",
              "      <td>0</td>\n",
              "      <td>0</td>\n",
              "    </tr>\n",
              "    <tr>\n",
              "      <th>has_elevator</th>\n",
              "      <td>1</td>\n",
              "      <td>1</td>\n",
              "      <td>1</td>\n",
              "      <td>1</td>\n",
              "      <td>0</td>\n",
              "    </tr>\n",
              "    <tr>\n",
              "      <th>has_fireplace</th>\n",
              "      <td>0</td>\n",
              "      <td>0</td>\n",
              "      <td>0</td>\n",
              "      <td>0</td>\n",
              "      <td>0</td>\n",
              "    </tr>\n",
              "    <tr>\n",
              "      <th>has_dishwasher</th>\n",
              "      <td>1</td>\n",
              "      <td>0</td>\n",
              "      <td>1</td>\n",
              "      <td>0</td>\n",
              "      <td>0</td>\n",
              "    </tr>\n",
              "    <tr>\n",
              "      <th>is_furnished</th>\n",
              "      <td>0</td>\n",
              "      <td>0</td>\n",
              "      <td>0</td>\n",
              "      <td>0</td>\n",
              "      <td>0</td>\n",
              "    </tr>\n",
              "    <tr>\n",
              "      <th>has_gym</th>\n",
              "      <td>1</td>\n",
              "      <td>1</td>\n",
              "      <td>0</td>\n",
              "      <td>1</td>\n",
              "      <td>0</td>\n",
              "    </tr>\n",
              "    <tr>\n",
              "      <th>allows_pets</th>\n",
              "      <td>1</td>\n",
              "      <td>1</td>\n",
              "      <td>0</td>\n",
              "      <td>0</td>\n",
              "      <td>1</td>\n",
              "    </tr>\n",
              "    <tr>\n",
              "      <th>has_washer_dryer</th>\n",
              "      <td>1</td>\n",
              "      <td>1</td>\n",
              "      <td>0</td>\n",
              "      <td>1</td>\n",
              "      <td>0</td>\n",
              "    </tr>\n",
              "    <tr>\n",
              "      <th>has_garage</th>\n",
              "      <td>0</td>\n",
              "      <td>1</td>\n",
              "      <td>0</td>\n",
              "      <td>1</td>\n",
              "      <td>0</td>\n",
              "    </tr>\n",
              "    <tr>\n",
              "      <th>has_roofdeck</th>\n",
              "      <td>0</td>\n",
              "      <td>1</td>\n",
              "      <td>1</td>\n",
              "      <td>0</td>\n",
              "      <td>1</td>\n",
              "    </tr>\n",
              "    <tr>\n",
              "      <th>has_concierge</th>\n",
              "      <td>1</td>\n",
              "      <td>1</td>\n",
              "      <td>0</td>\n",
              "      <td>1</td>\n",
              "      <td>0</td>\n",
              "    </tr>\n",
              "    <tr>\n",
              "      <th>has_pool</th>\n",
              "      <td>0</td>\n",
              "      <td>0</td>\n",
              "      <td>0</td>\n",
              "      <td>1</td>\n",
              "      <td>0</td>\n",
              "    </tr>\n",
              "    <tr>\n",
              "      <th>has_garden</th>\n",
              "      <td>0</td>\n",
              "      <td>1</td>\n",
              "      <td>0</td>\n",
              "      <td>0</td>\n",
              "      <td>0</td>\n",
              "    </tr>\n",
              "    <tr>\n",
              "      <th>has_childrens_playroom</th>\n",
              "      <td>0</td>\n",
              "      <td>1</td>\n",
              "      <td>0</td>\n",
              "      <td>1</td>\n",
              "      <td>0</td>\n",
              "    </tr>\n",
              "    <tr>\n",
              "      <th>rent</th>\n",
              "      <td>5150</td>\n",
              "      <td>2677</td>\n",
              "      <td>3675</td>\n",
              "      <td>3950</td>\n",
              "      <td>1995</td>\n",
              "    </tr>\n",
              "    <tr>\n",
              "      <th>no_fee</th>\n",
              "      <td>1</td>\n",
              "      <td>1</td>\n",
              "      <td>0</td>\n",
              "      <td>0</td>\n",
              "      <td>0</td>\n",
              "    </tr>\n",
              "    <tr>\n",
              "      <th>description</th>\n",
              "      <td>South Facing, Large Living Room, open Kitchen,...</td>\n",
              "      <td>ONE MONTH FREE RENT on a 13 month lease. The g...</td>\n",
              "      <td>Large Loft with a separate bedroom, home offic...</td>\n",
              "      <td>As 515 East 72nd Street owner/residents and br...</td>\n",
              "      <td>This one of a kind, studio apartment is locate...</td>\n",
              "    </tr>\n",
              "    <tr>\n",
              "      <th>neighborhood</th>\n",
              "      <td>Flatiron</td>\n",
              "      <td>Downtown Brooklyn</td>\n",
              "      <td>Financial District</td>\n",
              "      <td>Upper East Side</td>\n",
              "      <td>East Village</td>\n",
              "    </tr>\n",
              "    <tr>\n",
              "      <th>borough</th>\n",
              "      <td>Manhattan</td>\n",
              "      <td>Brooklyn</td>\n",
              "      <td>Manhattan</td>\n",
              "      <td>Manhattan</td>\n",
              "      <td>Manhattan</td>\n",
              "    </tr>\n",
              "    <tr>\n",
              "      <th>unit</th>\n",
              "      <td>1405</td>\n",
              "      <td>14S</td>\n",
              "      <td>5C</td>\n",
              "      <td>15A</td>\n",
              "      <td>4B</td>\n",
              "    </tr>\n",
              "    <tr>\n",
              "      <th>floornumber</th>\n",
              "      <td>14</td>\n",
              "      <td>14</td>\n",
              "      <td>5</td>\n",
              "      <td>15</td>\n",
              "      <td>4</td>\n",
              "    </tr>\n",
              "    <tr>\n",
              "      <th>line</th>\n",
              "      <td>05</td>\n",
              "      <td>S</td>\n",
              "      <td>C</td>\n",
              "      <td>A</td>\n",
              "      <td>B</td>\n",
              "    </tr>\n",
              "  </tbody>\n",
              "</table>\n",
              "</div>"
            ],
            "text/plain": [
              "rental_id                                                         7220860  ...                                            7136911\n",
              "addr_unit                                                           #1405  ...                                                #4B\n",
              "building_id                                                         40825  ...                                              11893\n",
              "bedrooms                                                                1  ...                                                  0\n",
              "bathrooms                                                               1  ...                                                  1\n",
              "size_sqft                                                             694  ...                                                  0\n",
              "created_at                                            2018-05-30 16:17:54  ...                                2018-05-02 09:38:24\n",
              "addr_street                                             37 WEST 21 STREET  ...                                 621 EAST 11 STREET\n",
              "addr_city                                                        New York  ...                                           New York\n",
              "addr_zip                                                            10010  ...                                              10009\n",
              "addr_lat                                                          40.7413  ...                                            40.7272\n",
              "addr_lon                                                         -73.9923  ...                                           -73.9783\n",
              "bin                                                           1.08871e+06  ...                                        1.00492e+06\n",
              "bbl                                                            1008230017  ...                                         1003940058\n",
              "floor_count                                                            15  ...                                                  5\n",
              "year_built                                                           2007  ...                                               1900\n",
              "min_to_subway                                                      1.4833  ...                                                5.9\n",
              "has_doorman                                                             1  ...                                                  0\n",
              "has_elevator                                                            1  ...                                                  0\n",
              "has_fireplace                                                           0  ...                                                  0\n",
              "has_dishwasher                                                          1  ...                                                  0\n",
              "is_furnished                                                            0  ...                                                  0\n",
              "has_gym                                                                 1  ...                                                  0\n",
              "allows_pets                                                             1  ...                                                  1\n",
              "has_washer_dryer                                                        1  ...                                                  0\n",
              "has_garage                                                              0  ...                                                  0\n",
              "has_roofdeck                                                            0  ...                                                  1\n",
              "has_concierge                                                           1  ...                                                  0\n",
              "has_pool                                                                0  ...                                                  0\n",
              "has_garden                                                              0  ...                                                  0\n",
              "has_childrens_playroom                                                  0  ...                                                  0\n",
              "rent                                                                 5150  ...                                               1995\n",
              "no_fee                                                                  1  ...                                                  0\n",
              "description             South Facing, Large Living Room, open Kitchen,...  ...  This one of a kind, studio apartment is locate...\n",
              "neighborhood                                                     Flatiron  ...                                       East Village\n",
              "borough                                                         Manhattan  ...                                          Manhattan\n",
              "unit                                                                 1405  ...                                                 4B\n",
              "floornumber                                                            14  ...                                                  4\n",
              "line                                                                   05  ...                                                  B\n",
              "\n",
              "[38 rows x 5 columns]"
            ]
          },
          "metadata": {
            "tags": []
          },
          "execution_count": 30
        }
      ]
    },
    {
      "cell_type": "code",
      "metadata": {
        "id": "aUG3_lYjOUXy",
        "colab_type": "code",
        "colab": {}
      },
      "source": [
        "# extract usable features\n",
        "feature_cols = [\n",
        "    'bedrooms', 'bathrooms', 'min_to_subway', \n",
        "    'size_sqft'\n",
        "]\n",
        "train_features = train_df[feature_cols] \n",
        "\n",
        "# impute missing values with medians\n",
        "train_features = train_features.fillna(train_features.median(), axis=0)\n",
        "\n",
        "# construct target vector\n",
        "train_target = train_df['rent']"
      ],
      "execution_count": 0,
      "outputs": []
    },
    {
      "cell_type": "code",
      "metadata": {
        "id": "zlCGX_EvOVNL",
        "colab_type": "code",
        "outputId": "34225779-3c10-41f7-b638-c8ae52b25d50",
        "colab": {
          "base_uri": "https://localhost:8080/",
          "height": 35
        }
      },
      "source": [
        "lreg = LinearRegression()\n",
        "lreg.fit(train_features, train_target)"
      ],
      "execution_count": 32,
      "outputs": [
        {
          "output_type": "execute_result",
          "data": {
            "text/plain": [
              "LinearRegression(copy_X=True, fit_intercept=True, n_jobs=None, normalize=False)"
            ]
          },
          "metadata": {
            "tags": []
          },
          "execution_count": 32
        }
      ]
    },
    {
      "cell_type": "code",
      "metadata": {
        "id": "esmjHulrOYV5",
        "colab_type": "code",
        "outputId": "adbbb98c-3818-46e9-870f-4d71acd37b1e",
        "colab": {
          "base_uri": "https://localhost:8080/",
          "height": 35
        }
      },
      "source": [
        "test_features = test_df[feature_cols] \n",
        "\n",
        "# impute missing values with medians\n",
        "test_features = test_features.fillna(train_features.median(), axis=0)\n",
        "\n",
        "# construct predictions \n",
        "test_df['predicted'] = lreg.predict(test_features)\n",
        "\n",
        "mean_squared_error(test_df['rent'], test_df['predicted'])"
      ],
      "execution_count": 33,
      "outputs": [
        {
          "output_type": "execute_result",
          "data": {
            "text/plain": [
              "4196041.334070839"
            ]
          },
          "metadata": {
            "tags": []
          },
          "execution_count": 33
        }
      ]
    },
    {
      "cell_type": "code",
      "metadata": {
        "id": "BfP8TP4vS-er",
        "colab_type": "code",
        "outputId": "4e7927b4-e165-4c8f-f79d-c95ac2a0a4fa",
        "colab": {
          "base_uri": "https://localhost:8080/",
          "height": 35
        }
      },
      "source": [
        "master_df = train_df.append(test_df, sort=False)\n",
        "\n",
        "master_features = master_df[feature_cols].fillna(master_df[feature_cols].median(), axis=0)\n",
        "master_target = master_df['rent']\n",
        "\n",
        "lreg.fit(master_features, master_target) # master_features = training data, master_target = target data"
      ],
      "execution_count": 34,
      "outputs": [
        {
          "output_type": "execute_result",
          "data": {
            "text/plain": [
              "LinearRegression(copy_X=True, fit_intercept=True, n_jobs=None, normalize=False)"
            ]
          },
          "metadata": {
            "tags": []
          },
          "execution_count": 34
        }
      ]
    },
    {
      "cell_type": "code",
      "metadata": {
        "id": "VxvmMXqkTIDW",
        "colab_type": "code",
        "outputId": "1555d336-c8e1-482b-ca0f-3aca73989ddd",
        "colab": {
          "base_uri": "https://localhost:8080/",
          "height": 35
        }
      },
      "source": [
        "submit1_features = df[feature_cols].fillna(master_df[feature_cols].median(), axis=0)\n",
        "df['predictions'] = lreg.predict(submit1_features)\n",
        "df['predictions'].to_csv('submission1.csv', header=True)\n",
        "!cp submission1.csv drive/My\\ Drive/ #saving to drive\n",
        "df['rents'] = np.ones(df['predictions'].shape) * master_target.median()\n",
        "mean_squared_error(df['predictions'], df['rents'])"
      ],
      "execution_count": 35,
      "outputs": [
        {
          "output_type": "execute_result",
          "data": {
            "text/plain": [
              "4191323.076233124"
            ]
          },
          "metadata": {
            "tags": []
          },
          "execution_count": 35
        }
      ]
    },
    {
      "cell_type": "code",
      "metadata": {
        "id": "Fk7LRPzLC474",
        "colab_type": "code",
        "colab": {}
      },
      "source": [
        ""
      ],
      "execution_count": 0,
      "outputs": []
    }
  ]
}