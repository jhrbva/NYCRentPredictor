{
  "nbformat": 4,
  "nbformat_minor": 0,
  "metadata": {
    "colab": {
      "name": "restaurantsNYC.ipynb",
      "provenance": [],
      "collapsed_sections": []
    },
    "kernelspec": {
      "name": "python3",
      "display_name": "Python 3"
    }
  },
  "cells": [
    {
      "cell_type": "code",
      "metadata": {
        "id": "lfvD8odwiOz_",
        "colab_type": "code",
        "colab": {}
      },
      "source": [
        "import pandas as pd\n",
        "import requests\n",
        "import numpy as np\n",
        "\n",
        "%matplotlib inline"
      ],
      "execution_count": 0,
      "outputs": []
    },
    {
      "cell_type": "code",
      "metadata": {
        "id": "GREkqhhFiVyU",
        "colab_type": "code",
        "colab": {}
      },
      "source": [
        "df = pd.read_csv('https://grantmlong.com/data/DOHMH_New_York_City_Restaurant_Inspection_Results_20190914.csv')"
      ],
      "execution_count": 0,
      "outputs": []
    },
    {
      "cell_type": "code",
      "metadata": {
        "id": "E6cKA52kicAf",
        "colab_type": "code",
        "colab": {
          "base_uri": "https://localhost:8080/",
          "height": 479
        },
        "outputId": "1eba5a68-642d-4d5d-fd72-d230a86899fc"
      },
      "source": [
        "list(df)"
      ],
      "execution_count": 3,
      "outputs": [
        {
          "output_type": "execute_result",
          "data": {
            "text/plain": [
              "['CAMIS',\n",
              " 'DBA',\n",
              " 'BORO',\n",
              " 'BUILDING',\n",
              " 'STREET',\n",
              " 'ZIPCODE',\n",
              " 'PHONE',\n",
              " 'CUISINE DESCRIPTION',\n",
              " 'INSPECTION DATE',\n",
              " 'ACTION',\n",
              " 'VIOLATION CODE',\n",
              " 'VIOLATION DESCRIPTION',\n",
              " 'CRITICAL FLAG',\n",
              " 'SCORE',\n",
              " 'GRADE',\n",
              " 'GRADE DATE',\n",
              " 'RECORD DATE',\n",
              " 'INSPECTION TYPE',\n",
              " 'Latitude',\n",
              " 'Longitude',\n",
              " 'Community Board',\n",
              " 'Council District',\n",
              " 'Census Tract',\n",
              " 'BIN',\n",
              " 'BBL',\n",
              " 'NTA']"
            ]
          },
          "metadata": {
            "tags": []
          },
          "execution_count": 3
        }
      ]
    },
    {
      "cell_type": "code",
      "metadata": {
        "id": "Pbb5G6MXi0Qw",
        "colab_type": "code",
        "colab": {
          "base_uri": "https://localhost:8080/",
          "height": 411
        },
        "outputId": "4e9720c5-bbdd-4214-af91-8429817baf46"
      },
      "source": [
        "df.drop(columns = ['CAMIS', 'PHONE', 'CUISINE DESCRIPTION', 'INSPECTION DATE', 'ACTION', 'VIOLATION CODE', 'VIOLATION DESCRIPTION', 'CRITICAL FLAG', 'SCORE', 'GRADE', 'GRADE DATE', 'RECORD DATE', 'INSPECTION TYPE', 'Community Board', 'Council District', 'Census Tract'])"
      ],
      "execution_count": 4,
      "outputs": [
        {
          "output_type": "execute_result",
          "data": {
            "text/html": [
              "<div>\n",
              "<style scoped>\n",
              "    .dataframe tbody tr th:only-of-type {\n",
              "        vertical-align: middle;\n",
              "    }\n",
              "\n",
              "    .dataframe tbody tr th {\n",
              "        vertical-align: top;\n",
              "    }\n",
              "\n",
              "    .dataframe thead th {\n",
              "        text-align: right;\n",
              "    }\n",
              "</style>\n",
              "<table border=\"1\" class=\"dataframe\">\n",
              "  <thead>\n",
              "    <tr style=\"text-align: right;\">\n",
              "      <th></th>\n",
              "      <th>DBA</th>\n",
              "      <th>BORO</th>\n",
              "      <th>BUILDING</th>\n",
              "      <th>STREET</th>\n",
              "      <th>ZIPCODE</th>\n",
              "      <th>Latitude</th>\n",
              "      <th>Longitude</th>\n",
              "      <th>BIN</th>\n",
              "      <th>BBL</th>\n",
              "      <th>NTA</th>\n",
              "    </tr>\n",
              "  </thead>\n",
              "  <tbody>\n",
              "    <tr>\n",
              "      <th>0</th>\n",
              "      <td>SUBWAY</td>\n",
              "      <td>Manhattan</td>\n",
              "      <td>666</td>\n",
              "      <td>5 AVENUE</td>\n",
              "      <td>10103.0</td>\n",
              "      <td>40.760542</td>\n",
              "      <td>-73.976421</td>\n",
              "      <td>1034520.0</td>\n",
              "      <td>1.012688e+09</td>\n",
              "      <td>MN17</td>\n",
              "    </tr>\n",
              "    <tr>\n",
              "      <th>1</th>\n",
              "      <td>BUTCHER'S CUT</td>\n",
              "      <td>Queens</td>\n",
              "      <td>14613</td>\n",
              "      <td>NORTHERN BLVD</td>\n",
              "      <td>11354.0</td>\n",
              "      <td>40.765026</td>\n",
              "      <td>-73.820377</td>\n",
              "      <td>4113214.0</td>\n",
              "      <td>4.050040e+09</td>\n",
              "      <td>QN51</td>\n",
              "    </tr>\n",
              "    <tr>\n",
              "      <th>2</th>\n",
              "      <td>LA TRAVIATA PIZZA</td>\n",
              "      <td>Manhattan</td>\n",
              "      <td>101</td>\n",
              "      <td>WEST   68 STREET</td>\n",
              "      <td>10023.0</td>\n",
              "      <td>40.774942</td>\n",
              "      <td>-73.980861</td>\n",
              "      <td>1028939.0</td>\n",
              "      <td>1.011400e+09</td>\n",
              "      <td>MN14</td>\n",
              "    </tr>\n",
              "    <tr>\n",
              "      <th>3</th>\n",
              "      <td>TGI FRIDAY</td>\n",
              "      <td>Brooklyn</td>\n",
              "      <td>3181</td>\n",
              "      <td>HARKNESS AVE</td>\n",
              "      <td>11235.0</td>\n",
              "      <td>40.586561</td>\n",
              "      <td>-73.929106</td>\n",
              "      <td>3248659.0</td>\n",
              "      <td>3.088410e+09</td>\n",
              "      <td>BK17</td>\n",
              "    </tr>\n",
              "    <tr>\n",
              "      <th>4</th>\n",
              "      <td>BLUE SMOKE</td>\n",
              "      <td>Manhattan</td>\n",
              "      <td>255</td>\n",
              "      <td>VESEY STREET</td>\n",
              "      <td>10282.0</td>\n",
              "      <td>40.714544</td>\n",
              "      <td>-74.015684</td>\n",
              "      <td>1085867.0</td>\n",
              "      <td>1.000168e+09</td>\n",
              "      <td>MN25</td>\n",
              "    </tr>\n",
              "    <tr>\n",
              "      <th>...</th>\n",
              "      <td>...</td>\n",
              "      <td>...</td>\n",
              "      <td>...</td>\n",
              "      <td>...</td>\n",
              "      <td>...</td>\n",
              "      <td>...</td>\n",
              "      <td>...</td>\n",
              "      <td>...</td>\n",
              "      <td>...</td>\n",
              "      <td>...</td>\n",
              "    </tr>\n",
              "    <tr>\n",
              "      <th>390651</th>\n",
              "      <td>SWEET DREAM BAKERY</td>\n",
              "      <td>Brooklyn</td>\n",
              "      <td>4612</td>\n",
              "      <td>7TH AVE</td>\n",
              "      <td>11220.0</td>\n",
              "      <td>40.644556</td>\n",
              "      <td>-74.003726</td>\n",
              "      <td>3011993.0</td>\n",
              "      <td>3.007580e+09</td>\n",
              "      <td>BK34</td>\n",
              "    </tr>\n",
              "    <tr>\n",
              "      <th>390652</th>\n",
              "      <td>BRANDY'S PIANO BAR</td>\n",
              "      <td>Manhattan</td>\n",
              "      <td>235</td>\n",
              "      <td>EAST   84 STREET</td>\n",
              "      <td>10028.0</td>\n",
              "      <td>40.777136</td>\n",
              "      <td>-73.954062</td>\n",
              "      <td>1048734.0</td>\n",
              "      <td>1.015300e+09</td>\n",
              "      <td>MN32</td>\n",
              "    </tr>\n",
              "    <tr>\n",
              "      <th>390653</th>\n",
              "      <td>BAKERI</td>\n",
              "      <td>Brooklyn</td>\n",
              "      <td>150</td>\n",
              "      <td>WYTHE AVENUE</td>\n",
              "      <td>11249.0</td>\n",
              "      <td>40.719948</td>\n",
              "      <td>-73.959985</td>\n",
              "      <td>3061876.0</td>\n",
              "      <td>3.023170e+09</td>\n",
              "      <td>BK73</td>\n",
              "    </tr>\n",
              "    <tr>\n",
              "      <th>390654</th>\n",
              "      <td>EAST NEW SING BO</td>\n",
              "      <td>Staten Island</td>\n",
              "      <td>1745</td>\n",
              "      <td>VICTORY BLVD</td>\n",
              "      <td>10314.0</td>\n",
              "      <td>40.613129</td>\n",
              "      <td>-74.121880</td>\n",
              "      <td>5009579.0</td>\n",
              "      <td>5.003500e+09</td>\n",
              "      <td>SI07</td>\n",
              "    </tr>\n",
              "    <tr>\n",
              "      <th>390655</th>\n",
              "      <td>BARCLAYS LOWER SUITES TANDUAY BAR SOUTH CLUB L...</td>\n",
              "      <td>Brooklyn</td>\n",
              "      <td>620</td>\n",
              "      <td>ATLANTIC AVENUE</td>\n",
              "      <td>11217.0</td>\n",
              "      <td>40.683447</td>\n",
              "      <td>-73.975691</td>\n",
              "      <td>3398156.0</td>\n",
              "      <td>3.011180e+09</td>\n",
              "      <td>BK37</td>\n",
              "    </tr>\n",
              "  </tbody>\n",
              "</table>\n",
              "<p>390656 rows × 10 columns</p>\n",
              "</div>"
            ],
            "text/plain": [
              "                                                      DBA  ...   NTA\n",
              "0                                                  SUBWAY  ...  MN17\n",
              "1                                           BUTCHER'S CUT  ...  QN51\n",
              "2                                       LA TRAVIATA PIZZA  ...  MN14\n",
              "3                                              TGI FRIDAY  ...  BK17\n",
              "4                                              BLUE SMOKE  ...  MN25\n",
              "...                                                   ...  ...   ...\n",
              "390651                                 SWEET DREAM BAKERY  ...  BK34\n",
              "390652                                 BRANDY'S PIANO BAR  ...  MN32\n",
              "390653                                             BAKERI  ...  BK73\n",
              "390654                                   EAST NEW SING BO  ...  SI07\n",
              "390655  BARCLAYS LOWER SUITES TANDUAY BAR SOUTH CLUB L...  ...  BK37\n",
              "\n",
              "[390656 rows x 10 columns]"
            ]
          },
          "metadata": {
            "tags": []
          },
          "execution_count": 4
        }
      ]
    },
    {
      "cell_type": "code",
      "metadata": {
        "id": "8YF5yxvZluoJ",
        "colab_type": "code",
        "colab": {}
      },
      "source": [
        "# drop nan zipcode values from the dataset\n",
        "df = df.dropna(subset=['ZIPCODE'])\n",
        "#df.astype({'ZIPCODE': 'int64'}).dtypes\n",
        "df['ZIPCODE'] = df['ZIPCODE'].astype(np.int64)\n",
        "zipcount = dict()\n",
        "\n",
        "# get the count for the number of times each zipcode appears\n",
        "for zipcode in df.ZIPCODE:\n",
        "  if zipcode in zipcount:\n",
        "    zipcount[zipcode] += 1\n",
        "  else:\n",
        "    zipcount[zipcode] = 1\n",
        "\n",
        "#  nicely print the results\n",
        "#  for zipcode in zipcount:\n",
        "#    print(\"Zipcode: {0}   Count: {1}\".format(zipcode, zipcount[zipcode]))"
      ],
      "execution_count": 0,
      "outputs": []
    },
    {
      "cell_type": "code",
      "metadata": {
        "id": "t8FzhJ-Frfex",
        "colab_type": "code",
        "colab": {}
      },
      "source": [
        " zip_df = pd.DataFrame.from_dict(zipcount, orient='index', columns=['Count'])"
      ],
      "execution_count": 0,
      "outputs": []
    },
    {
      "cell_type": "code",
      "metadata": {
        "id": "qPvczjPFtGV5",
        "colab_type": "code",
        "colab": {
          "base_uri": "https://localhost:8080/",
          "height": 200
        },
        "outputId": "1ceaf75f-7a61-4e1b-eaec-c937f8a70764"
      },
      "source": [
        "zip_df.head(5)"
      ],
      "execution_count": 7,
      "outputs": [
        {
          "output_type": "execute_result",
          "data": {
            "text/html": [
              "<div>\n",
              "<style scoped>\n",
              "    .dataframe tbody tr th:only-of-type {\n",
              "        vertical-align: middle;\n",
              "    }\n",
              "\n",
              "    .dataframe tbody tr th {\n",
              "        vertical-align: top;\n",
              "    }\n",
              "\n",
              "    .dataframe thead th {\n",
              "        text-align: right;\n",
              "    }\n",
              "</style>\n",
              "<table border=\"1\" class=\"dataframe\">\n",
              "  <thead>\n",
              "    <tr style=\"text-align: right;\">\n",
              "      <th></th>\n",
              "      <th>Count</th>\n",
              "    </tr>\n",
              "  </thead>\n",
              "  <tbody>\n",
              "    <tr>\n",
              "      <th>10103</th>\n",
              "      <td>62</td>\n",
              "    </tr>\n",
              "    <tr>\n",
              "      <th>11354</th>\n",
              "      <td>6689</td>\n",
              "    </tr>\n",
              "    <tr>\n",
              "      <th>10023</th>\n",
              "      <td>2458</td>\n",
              "    </tr>\n",
              "    <tr>\n",
              "      <th>11235</th>\n",
              "      <td>2569</td>\n",
              "    </tr>\n",
              "    <tr>\n",
              "      <th>10282</th>\n",
              "      <td>208</td>\n",
              "    </tr>\n",
              "  </tbody>\n",
              "</table>\n",
              "</div>"
            ],
            "text/plain": [
              "       Count\n",
              "10103     62\n",
              "11354   6689\n",
              "10023   2458\n",
              "11235   2569\n",
              "10282    208"
            ]
          },
          "metadata": {
            "tags": []
          },
          "execution_count": 7
        }
      ]
    },
    {
      "cell_type": "code",
      "metadata": {
        "id": "UtUoJZ5suw4r",
        "colab_type": "code",
        "colab": {}
      },
      "source": [
        "from google.colab import drive"
      ],
      "execution_count": 0,
      "outputs": []
    },
    {
      "cell_type": "code",
      "metadata": {
        "id": "_-vGO8_1urXU",
        "colab_type": "code",
        "colab": {
          "base_uri": "https://localhost:8080/",
          "height": 126
        },
        "outputId": "cc5aa5ae-199c-4061-be55-68cd1a1117df"
      },
      "source": [
        "drive.mount('drive')"
      ],
      "execution_count": 9,
      "outputs": [
        {
          "output_type": "stream",
          "text": [
            "Go to this URL in a browser: https://accounts.google.com/o/oauth2/auth?client_id=947318989803-6bn6qk8qdgf4n4g3pfee6491hc0brc4i.apps.googleusercontent.com&redirect_uri=urn%3aietf%3awg%3aoauth%3a2.0%3aoob&response_type=code&scope=email%20https%3a%2f%2fwww.googleapis.com%2fauth%2fdocs.test%20https%3a%2f%2fwww.googleapis.com%2fauth%2fdrive%20https%3a%2f%2fwww.googleapis.com%2fauth%2fdrive.photos.readonly%20https%3a%2f%2fwww.googleapis.com%2fauth%2fpeopleapi.readonly\n",
            "\n",
            "Enter your authorization code:\n",
            "··········\n",
            "Mounted at drive\n"
          ],
          "name": "stdout"
        }
      ]
    },
    {
      "cell_type": "code",
      "metadata": {
        "id": "yv_TvDTtrP4o",
        "colab_type": "code",
        "colab": {}
      },
      "source": [
        "zip_df.to_csv('zip_df.csv', header=True)\n",
        "!cp zip_df.csv drive/My\\ Drive/ #saving to drive"
      ],
      "execution_count": 0,
      "outputs": []
    }
  ]
}