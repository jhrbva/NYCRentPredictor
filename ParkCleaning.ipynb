{
  "nbformat": 4,
  "nbformat_minor": 0,
  "metadata": {
    "colab": {
      "name": "ParkCleaning.ipynb",
      "provenance": [],
      "collapsed_sections": []
    },
    "kernelspec": {
      "name": "python3",
      "display_name": "Python 3"
    }
  },
  "cells": [
    {
      "cell_type": "code",
      "metadata": {
        "id": "86FUj13edqtA",
        "colab_type": "code",
        "colab": {}
      },
      "source": [
        "import pandas as pd\n",
        "from google.colab import drive"
      ],
      "execution_count": 0,
      "outputs": []
    },
    {
      "cell_type": "code",
      "metadata": {
        "id": "K-YOq-Pvb9ha",
        "colab_type": "code",
        "outputId": "1447893a-70b0-4436-9b2f-d07a7bfa2484",
        "colab": {
          "base_uri": "https://localhost:8080/",
          "height": 476
        }
      },
      "source": [
        "!pip install uszipcode"
      ],
      "execution_count": 2,
      "outputs": [
        {
          "output_type": "stream",
          "text": [
            "Collecting uszipcode\n",
            "\u001b[?25l  Downloading https://files.pythonhosted.org/packages/bc/94/1b908c6fe2008f0e913b0b2d97951aa76e00ec1044883c012afb2e477b4a/uszipcode-0.2.4-py2.py3-none-any.whl (378kB)\n",
            "\u001b[K     |████████████████████████████████| 378kB 9.6MB/s \n",
            "\u001b[?25hRequirement already satisfied: requests in /usr/local/lib/python3.6/dist-packages (from uszipcode) (2.21.0)\n",
            "Collecting pathlib-mate\n",
            "\u001b[?25l  Downloading https://files.pythonhosted.org/packages/ff/f2/a1e6044fe90784e7bbc05286f2e8616aa2ff167f7275f5a6f2df479092c0/pathlib_mate-0.0.15-py2.py3-none-any.whl (195kB)\n",
            "\u001b[K     |████████████████████████████████| 204kB 44.5MB/s \n",
            "\u001b[?25hRequirement already satisfied: sqlalchemy in /usr/local/lib/python3.6/dist-packages (from uszipcode) (1.3.11)\n",
            "Requirement already satisfied: attrs in /usr/local/lib/python3.6/dist-packages (from uszipcode) (19.3.0)\n",
            "Requirement already satisfied: certifi>=2017.4.17 in /usr/local/lib/python3.6/dist-packages (from requests->uszipcode) (2019.11.28)\n",
            "Requirement already satisfied: idna<2.9,>=2.5 in /usr/local/lib/python3.6/dist-packages (from requests->uszipcode) (2.8)\n",
            "Requirement already satisfied: chardet<3.1.0,>=3.0.2 in /usr/local/lib/python3.6/dist-packages (from requests->uszipcode) (3.0.4)\n",
            "Requirement already satisfied: urllib3<1.25,>=1.21.1 in /usr/local/lib/python3.6/dist-packages (from requests->uszipcode) (1.24.3)\n",
            "Collecting autopep8\n",
            "\u001b[?25l  Downloading https://files.pythonhosted.org/packages/45/f3/24b437da561b6af4840c871fbbda32889ca304fc1f7b6cc3ada8b09f394a/autopep8-1.4.4.tar.gz (114kB)\n",
            "\u001b[K     |████████████████████████████████| 122kB 42.0MB/s \n",
            "\u001b[?25hRequirement already satisfied: six in /usr/local/lib/python3.6/dist-packages (from pathlib-mate->uszipcode) (1.12.0)\n",
            "Collecting pycodestyle>=2.4.0\n",
            "\u001b[?25l  Downloading https://files.pythonhosted.org/packages/0e/0c/04a353e104d2f324f8ee5f4b32012618c1c86dd79e52a433b64fceed511b/pycodestyle-2.5.0-py2.py3-none-any.whl (51kB)\n",
            "\u001b[K     |████████████████████████████████| 51kB 5.9MB/s \n",
            "\u001b[?25hBuilding wheels for collected packages: autopep8\n",
            "  Building wheel for autopep8 (setup.py) ... \u001b[?25l\u001b[?25hdone\n",
            "  Created wheel for autopep8: filename=autopep8-1.4.4-py2.py3-none-any.whl size=42631 sha256=7674ef3ac29c9f8b1fe27bc01853f207db715a4461a1b6091b5058b272300808\n",
            "  Stored in directory: /root/.cache/pip/wheels/7e/f5/4b/c19e6276126325eb8071b273347c05a830c37a82b9b3b81510\n",
            "Successfully built autopep8\n",
            "Installing collected packages: pycodestyle, autopep8, pathlib-mate, uszipcode\n",
            "Successfully installed autopep8-1.4.4 pathlib-mate-0.0.15 pycodestyle-2.5.0 uszipcode-0.2.4\n"
          ],
          "name": "stdout"
        }
      ]
    },
    {
      "cell_type": "code",
      "metadata": {
        "id": "X4jdkSGhi50V",
        "colab_type": "code",
        "outputId": "28fdc694-29e0-4771-e1f0-dab49cf35d7e",
        "colab": {
          "base_uri": "https://localhost:8080/",
          "height": 221
        }
      },
      "source": [
        "from uszipcode import SearchEngine\n",
        "search = SearchEngine(simple_zipcode=True)"
      ],
      "execution_count": 3,
      "outputs": [
        {
          "output_type": "stream",
          "text": [
            "Start downloading data for simple zipcode database, total size 9MB ...\n",
            "  1 MB finished ...\n",
            "  2 MB finished ...\n",
            "  3 MB finished ...\n",
            "  4 MB finished ...\n",
            "  5 MB finished ...\n",
            "  6 MB finished ...\n",
            "  7 MB finished ...\n",
            "  8 MB finished ...\n",
            "  9 MB finished ...\n",
            "  10 MB finished ...\n",
            "  Complete!\n"
          ],
          "name": "stdout"
        }
      ]
    },
    {
      "cell_type": "code",
      "metadata": {
        "id": "nfP2MU62dw26",
        "colab_type": "code",
        "outputId": "66fe1f86-3cd6-4260-9c98-68be0ba6411c",
        "colab": {
          "base_uri": "https://localhost:8080/",
          "height": 204
        }
      },
      "source": [
        "park_df = pd.read_csv('https://data.cityofnewyork.us/resource/99ii-hwh9.csv')\n",
        "# park_df.head(5)\n",
        "# park_df.dtypes\n",
        "# park_df.index\n",
        "\n",
        "# Changing the format of the data in the table for easier extraction\n",
        "i = 0\n",
        "for zipcode in park_df['the_geom']:\n",
        "  park_df.loc[park_df.index == i, 'the_geom'] = zipcode[7:len(zipcode) - 1]\n",
        "  i += 1\n",
        "\n",
        "park_df.head(5)"
      ],
      "execution_count": 4,
      "outputs": [
        {
          "output_type": "execute_result",
          "data": {
            "text/html": [
              "<div>\n",
              "<style scoped>\n",
              "    .dataframe tbody tr th:only-of-type {\n",
              "        vertical-align: middle;\n",
              "    }\n",
              "\n",
              "    .dataframe tbody tr th {\n",
              "        vertical-align: top;\n",
              "    }\n",
              "\n",
              "    .dataframe thead th {\n",
              "        text-align: right;\n",
              "    }\n",
              "</style>\n",
              "<table border=\"1\" class=\"dataframe\">\n",
              "  <thead>\n",
              "    <tr style=\"text-align: right;\">\n",
              "      <th></th>\n",
              "      <th>the_geom</th>\n",
              "      <th>gispropnum</th>\n",
              "      <th>parkname</th>\n",
              "      <th>type</th>\n",
              "    </tr>\n",
              "  </thead>\n",
              "  <tbody>\n",
              "    <tr>\n",
              "      <th>0</th>\n",
              "      <td>-73.8345470371915 40.64951548820048</td>\n",
              "      <td>NaN</td>\n",
              "      <td>GATEWAY</td>\n",
              "      <td>1/2-Mile</td>\n",
              "    </tr>\n",
              "    <tr>\n",
              "      <th>1</th>\n",
              "      <td>-73.83150930469213 40.64992288722615</td>\n",
              "      <td>NaN</td>\n",
              "      <td>GATEWAY</td>\n",
              "      <td>1/2-Mile</td>\n",
              "    </tr>\n",
              "    <tr>\n",
              "      <th>2</th>\n",
              "      <td>-73.83362089255507 40.649643900721536</td>\n",
              "      <td>NaN</td>\n",
              "      <td>GATEWAY</td>\n",
              "      <td>1/2-Mile</td>\n",
              "    </tr>\n",
              "    <tr>\n",
              "      <th>3</th>\n",
              "      <td>-73.83272434273998 40.64978363054011</td>\n",
              "      <td>NaN</td>\n",
              "      <td>GATEWAY</td>\n",
              "      <td>1/2-Mile</td>\n",
              "    </tr>\n",
              "    <tr>\n",
              "      <th>4</th>\n",
              "      <td>-73.83548803206288 40.649370165110476</td>\n",
              "      <td>NaN</td>\n",
              "      <td>GATEWAY</td>\n",
              "      <td>1/2-Mile</td>\n",
              "    </tr>\n",
              "  </tbody>\n",
              "</table>\n",
              "</div>"
            ],
            "text/plain": [
              "                                the_geom gispropnum parkname      type\n",
              "0    -73.8345470371915 40.64951548820048        NaN  GATEWAY  1/2-Mile\n",
              "1   -73.83150930469213 40.64992288722615        NaN  GATEWAY  1/2-Mile\n",
              "2  -73.83362089255507 40.649643900721536        NaN  GATEWAY  1/2-Mile\n",
              "3   -73.83272434273998 40.64978363054011        NaN  GATEWAY  1/2-Mile\n",
              "4  -73.83548803206288 40.649370165110476        NaN  GATEWAY  1/2-Mile"
            ]
          },
          "metadata": {
            "tags": []
          },
          "execution_count": 4
        }
      ]
    },
    {
      "cell_type": "code",
      "metadata": {
        "id": "mhdhxAOneIDG",
        "colab_type": "code",
        "colab": {}
      },
      "source": [
        "# extract zip codes\n",
        "Zipcode = list()  # will be used as a new column\n",
        "for code in park_df['the_geom']:\n",
        "  longlat = code.split(' ')\n",
        "  lattitude = float(longlat[1])\n",
        "  longitude = float(longlat[0])\n",
        "  result = search.by_coordinates(lattitude, longitude, radius=30, returns=5)\n",
        "  Zipcode.append(str(result)[24:29])"
      ],
      "execution_count": 0,
      "outputs": []
    },
    {
      "cell_type": "code",
      "metadata": {
        "id": "IpkDvLMjngie",
        "colab_type": "code",
        "outputId": "5c81c2d4-9297-4037-b8e2-b84b2b7c9778",
        "colab": {
          "base_uri": "https://localhost:8080/",
          "height": 1000
        }
      },
      "source": [
        "# count the number of times a park appears\n",
        "parks = dict()\n",
        "for park in park_df['parkname']:\n",
        "  if park in parks:\n",
        "    parks[park] += 1\n",
        "  else:\n",
        "    parks[park] = 1\n",
        "\n",
        "i = 0\n",
        "for park in parks:\n",
        "  print(\"Park: {}, appears: {} times\".format(park, parks[park]))\n",
        "  i += 1\n",
        "\n",
        "print(\"\\nNumber of unique parks is: {}\".format(i))"
      ],
      "execution_count": 6,
      "outputs": [
        {
          "output_type": "stream",
          "text": [
            "Park: GATEWAY, appears: 6 times\n",
            "Park: Silver Lake Park, appears: 11 times\n",
            "Park: Snug Harbor Cultural Center, appears: 3 times\n",
            "Park: Willowbrook Park, appears: 4 times\n",
            "Park: LaTourette Park & Golf Course, appears: 4 times\n",
            "Park: King Fisher Park, appears: 1 times\n",
            "Park: Great Kills Park, appears: 6 times\n",
            "Park: Ebs Pond Park, appears: 1 times\n",
            "Park: Mt. Loretto, appears: 1 times\n",
            "Park: Highland Park, appears: 13 times\n",
            "Park: Blue Heron Park, appears: 3 times\n",
            "Park: Seaton Falls Park, appears: 8 times\n",
            "Park: Pelham Bay Park, appears: 4 times\n",
            "Park: Prospect Park, appears: 14 times\n",
            "Park: Bensonhurst Park, appears: 7 times\n",
            "Park: Canarsie Park, appears: 4 times\n",
            "Park: Juniper Valley Playground, appears: 17 times\n",
            "Park: Miller Field, appears: 2 times\n",
            "Park: Crescent Beach Park, appears: 2 times\n",
            "Park: Tottenville Pool, appears: 1 times\n",
            "Park: nan, appears: 5 times\n",
            "Park: North Mount Loretto State Forest, appears: 2 times\n",
            "Park: Forest Park, appears: 48 times\n",
            "Park: Pugsley Creek Park, appears: 1 times\n",
            "Park: Queensbridge Park, appears: 3 times\n",
            "Park: Alley Park, appears: 1 times\n",
            "Park: Central Park, appears: 58 times\n",
            "Park: Sara D. Roosevelt Park, appears: 18 times\n",
            "Park: Tremont Park, appears: 6 times\n",
            "Park: Bronx Park, appears: 11 times\n",
            "Park: Flushing Fields, appears: 4 times\n",
            "Park: Union Square Park, appears: 3 times\n",
            "Park: Frank Golden Park, appears: 2 times\n",
            "Park: Frank Principe Park, appears: 5 times\n",
            "Park: St. James Park, appears: 7 times\n",
            "Park: St Mary's Playground, appears: 14 times\n",
            "Park: Bryant Park, appears: 5 times\n",
            "Park: Harris Park, appears: 6 times\n",
            "Park: Rainey Park, appears: 3 times\n",
            "Park: Francis Lewis Park, appears: 1 times\n",
            "Park: Alley Pond Park, appears: 10 times\n",
            "Park: Coffey Park, appears: 6 times\n",
            "Park: Herbert Von King Park, appears: 5 times\n",
            "Park: Red Hook Recreation Area, appears: 16 times\n",
            "Park: Tompkins Square Park, appears: 8 times\n",
            "Park: Flushing Meadows Corona Park, appears: 29 times\n",
            "Park: Williamsbridge Oval, appears: 2 times\n",
            "Park: Kissena Park, appears: 2 times\n",
            "Park: Crotona Park, appears: 27 times\n",
            "Park: Grand Army Plaza, appears: 4 times\n",
            "Park: Thomas Greene Playground, appears: 6 times\n",
            "Park: Steeplechase Park, appears: 1 times\n",
            "Park: Abe Stark Skating Rink, appears: 1 times\n",
            "Park: Betsy Head Park, appears: 4 times\n",
            "Park: East River Park, appears: 13 times\n",
            "Park: Dyker Beach Park, appears: 10 times\n",
            "Park: Kissena Corridor Park, appears: 22 times\n",
            "Park: Franklin D Roosevelt Boardwalk and Beach, appears: 14 times\n",
            "Park: Washington Square Park, appears: 12 times\n",
            "Park: Fort Greene Park, appears: 9 times\n",
            "Park: Battery Park, appears: 6 times\n",
            "Park: Dry Dock Playground, appears: 3 times\n",
            "Park: John Jay Park, appears: 2 times\n",
            "Park: Marcus Garvey Park, appears: 11 times\n",
            "Park: Sound View Park, appears: 8 times\n",
            "Park: Ferry Point Park, appears: 1 times\n",
            "Park: Lincoln Terrace / Arthur S. Somers Park, appears: 8 times\n",
            "Park: McCarren Park, appears: 14 times\n",
            "Park: Alley Athletic Playground, appears: 2 times\n",
            "Park: Macneil Park, appears: 3 times\n",
            "Park: Cunningham Park, appears: 5 times\n",
            "Park: Astoria Park, appears: 15 times\n",
            "Park: Triborough Bridge Playground A, appears: 1 times\n",
            "Park: Reed's Basket Willow Swamp Park, appears: 1 times\n",
            "Park: Hamilton Fish Park, appears: 2 times\n",
            "Park: City Hall Park, appears: 11 times\n",
            "Park: Manhattan Beach Park, appears: 7 times\n",
            "Park: Howard Playground, appears: 2 times\n",
            "Park: Cadman Plaza Park, appears: 5 times\n",
            "Park: Wagner Houses Pool, appears: 3 times\n",
            "Park: College Point Park, appears: 2 times\n",
            "Park: Commodore Barry Park, appears: 5 times\n",
            "Park: Parade Ground, appears: 10 times\n",
            "Park: Brooklyn Bridge Park, appears: 2 times\n",
            "Park: Machate Circle, appears: 1 times\n",
            "Park: Riverside Park, appears: 59 times\n",
            "Park: Macombs Dam Park, appears: 11 times\n",
            "Park: Owl's Head Park, appears: 5 times\n",
            "Park: Springfield Park, appears: 9 times\n",
            "Park: Highbridge Park, appears: 31 times\n",
            "Park: St Nicholas Park, appears: 15 times\n",
            "Park: Detective Keith L Williams Park, appears: 5 times\n",
            "Park: Rufus King Park, appears: 2 times\n",
            "Park: Sunset Park, appears: 8 times\n",
            "Park: Raoul Wallenberg Forest, appears: 1 times\n",
            "Park: Baisley Pond Park, appears: 23 times\n",
            "Park: Shore Road Park and Parkway, appears: 13 times\n",
            "Park: Inwood Hill Park, appears: 14 times\n",
            "Park: Asser Levy Park, appears: 7 times\n",
            "Park: Thomas Jefferson Park, appears: 5 times\n",
            "Park: Coney Island Beach & Boardwalk, appears: 23 times\n",
            "Park: Poseidon Playground, appears: 2 times\n",
            "Park: St. Albans Park, appears: 4 times\n",
            "Park: Fort Washington Park, appears: 12 times\n",
            "Park: Leon S Kaiser Playground, appears: 5 times\n",
            "Park: Nautilus Playground, appears: 3 times\n",
            "Park: Roy Wilkins Recreation Center, appears: 1 times\n",
            "Park: Brookville Park, appears: 14 times\n",
            "Park: Fort Tryon Park, appears: 7 times\n",
            "Park: Carl Schurz Park, appears: 3 times\n",
            "Park: Clove Lakes Park, appears: 20 times\n",
            "Park: Bloomingdale Park, appears: 6 times\n",
            "Park: Friends Field, appears: 2 times\n",
            "Park: Sherman Creek, appears: 3 times\n",
            "Park: Harlem River Park, appears: 3 times\n",
            "Park: Recreational Area, appears: 2 times\n",
            "Park: Morningside Park, appears: 17 times\n",
            "Park: Sheltering Arms Park, appears: 4 times\n",
            "Park: CPL. Thompson Park, appears: 4 times\n",
            "Park: Faber Park, appears: 2 times\n",
            "Park: Father Macris Park, appears: 2 times\n",
            "Park: Bushwick Playground, appears: 2 times\n",
            "Park: Barretto Point Park, appears: 1 times\n",
            "Park: Conference House Park, appears: 4 times\n",
            "\n",
            "Number of unique parks is: 124\n"
          ],
          "name": "stdout"
        }
      ]
    },
    {
      "cell_type": "code",
      "metadata": {
        "id": "LIyTtTSbpBwR",
        "colab_type": "code",
        "outputId": "5f1d76da-e805-4a27-a759-2a617ebf229b",
        "colab": {
          "base_uri": "https://localhost:8080/",
          "height": 359
        }
      },
      "source": [
        "# Creating new column to reflect the zip code the lattitude and longitude correspond to\n",
        "park_df['Zipcode'] = Zipcode\n",
        "park_df.sample(10)"
      ],
      "execution_count": 7,
      "outputs": [
        {
          "output_type": "execute_result",
          "data": {
            "text/html": [
              "<div>\n",
              "<style scoped>\n",
              "    .dataframe tbody tr th:only-of-type {\n",
              "        vertical-align: middle;\n",
              "    }\n",
              "\n",
              "    .dataframe tbody tr th {\n",
              "        vertical-align: top;\n",
              "    }\n",
              "\n",
              "    .dataframe thead th {\n",
              "        text-align: right;\n",
              "    }\n",
              "</style>\n",
              "<table border=\"1\" class=\"dataframe\">\n",
              "  <thead>\n",
              "    <tr style=\"text-align: right;\">\n",
              "      <th></th>\n",
              "      <th>the_geom</th>\n",
              "      <th>gispropnum</th>\n",
              "      <th>parkname</th>\n",
              "      <th>type</th>\n",
              "      <th>Zipcode</th>\n",
              "    </tr>\n",
              "  </thead>\n",
              "  <tbody>\n",
              "    <tr>\n",
              "      <th>767</th>\n",
              "      <td>-73.94507607184202 40.80508330025785</td>\n",
              "      <td>M058</td>\n",
              "      <td>Marcus Garvey Park</td>\n",
              "      <td>1/2-Mile</td>\n",
              "      <td>10026</td>\n",
              "    </tr>\n",
              "    <tr>\n",
              "      <th>790</th>\n",
              "      <td>-73.92585257694762 40.66818104800156</td>\n",
              "      <td>B054</td>\n",
              "      <td>Lincoln Terrace / Arthur S. Somers Park</td>\n",
              "      <td>1/2-Mile</td>\n",
              "      <td>11212</td>\n",
              "    </tr>\n",
              "    <tr>\n",
              "      <th>490</th>\n",
              "      <td>-74.03051362651266 40.63968915050607</td>\n",
              "      <td>B066</td>\n",
              "      <td>Owl's Head Park</td>\n",
              "      <td>1/2-Mile</td>\n",
              "      <td>11220</td>\n",
              "    </tr>\n",
              "    <tr>\n",
              "      <th>403</th>\n",
              "      <td>-73.78281433531666 40.74377961566004</td>\n",
              "      <td>Q300A</td>\n",
              "      <td>Kissena Corridor Park</td>\n",
              "      <td>1/2-Mile</td>\n",
              "      <td>11365</td>\n",
              "    </tr>\n",
              "    <tr>\n",
              "      <th>992</th>\n",
              "      <td>-74.24452591261284 40.4990572482358</td>\n",
              "      <td>R006</td>\n",
              "      <td>Conference House Park</td>\n",
              "      <td>1/2-Mile</td>\n",
              "      <td>10307</td>\n",
              "    </tr>\n",
              "    <tr>\n",
              "      <th>621</th>\n",
              "      <td>-73.9735626848425 40.79786695363505</td>\n",
              "      <td>M071</td>\n",
              "      <td>Riverside Park</td>\n",
              "      <td>1/2-Mile</td>\n",
              "      <td>10025</td>\n",
              "    </tr>\n",
              "    <tr>\n",
              "      <th>316</th>\n",
              "      <td>-74.00456260892472 40.67366148457436</td>\n",
              "      <td>B126</td>\n",
              "      <td>Red Hook Recreation Area</td>\n",
              "      <td>1/2-Mile</td>\n",
              "      <td>11231</td>\n",
              "    </tr>\n",
              "    <tr>\n",
              "      <th>957</th>\n",
              "      <td>-74.1353585885055 40.64033739407623</td>\n",
              "      <td>R008</td>\n",
              "      <td>Faber Park</td>\n",
              "      <td>1/2-Mile</td>\n",
              "      <td>10310</td>\n",
              "    </tr>\n",
              "    <tr>\n",
              "      <th>159</th>\n",
              "      <td>-73.8994964011082 40.83513639912675</td>\n",
              "      <td>X010</td>\n",
              "      <td>Crotona Park</td>\n",
              "      <td>1/2-Mile</td>\n",
              "      <td>10459</td>\n",
              "    </tr>\n",
              "    <tr>\n",
              "      <th>121</th>\n",
              "      <td>-73.94516363533944 40.68922121240117</td>\n",
              "      <td>B088</td>\n",
              "      <td>Herbert Von King Park</td>\n",
              "      <td>1/2-Mile</td>\n",
              "      <td>11216</td>\n",
              "    </tr>\n",
              "  </tbody>\n",
              "</table>\n",
              "</div>"
            ],
            "text/plain": [
              "                                 the_geom gispropnum  ...      type Zipcode\n",
              "767  -73.94507607184202 40.80508330025785       M058  ...  1/2-Mile   10026\n",
              "790  -73.92585257694762 40.66818104800156       B054  ...  1/2-Mile   11212\n",
              "490  -74.03051362651266 40.63968915050607       B066  ...  1/2-Mile   11220\n",
              "403  -73.78281433531666 40.74377961566004      Q300A  ...  1/2-Mile   11365\n",
              "992   -74.24452591261284 40.4990572482358       R006  ...  1/2-Mile   10307\n",
              "621   -73.9735626848425 40.79786695363505       M071  ...  1/2-Mile   10025\n",
              "316  -74.00456260892472 40.67366148457436       B126  ...  1/2-Mile   11231\n",
              "957   -74.1353585885055 40.64033739407623       R008  ...  1/2-Mile   10310\n",
              "159   -73.8994964011082 40.83513639912675       X010  ...  1/2-Mile   10459\n",
              "121  -73.94516363533944 40.68922121240117       B088  ...  1/2-Mile   11216\n",
              "\n",
              "[10 rows x 5 columns]"
            ]
          },
          "metadata": {
            "tags": []
          },
          "execution_count": 7
        }
      ]
    },
    {
      "cell_type": "code",
      "metadata": {
        "id": "Co6BjGM7qFg5",
        "colab_type": "code",
        "outputId": "9ca7fa25-6997-4b1a-8289-4c95647962ab",
        "colab": {
          "base_uri": "https://localhost:8080/",
          "height": 153
        }
      },
      "source": [
        "# checking how many park names to add\n",
        "null_cols = park_df['parkname'].isnull()\n",
        "null_parknames = park_df[park_df['parkname'].isnull()][null_cols]\n",
        "name = null_parknames['the_geom']\n",
        "print(name)"
      ],
      "execution_count": 8,
      "outputs": [
        {
          "output_type": "stream",
          "text": [
            "59     -74.23184858771734 40.514615964676366\n",
            "65      -74.01786996470521 40.70789628320985\n",
            "68     -73.94641081474278 40.753677032787174\n",
            "391       -74.0176875920072 40.7077237221033\n",
            "808     -73.92982721113754 40.84807555171158\n",
            "Name: the_geom, dtype: object\n"
          ],
          "name": "stdout"
        },
        {
          "output_type": "stream",
          "text": [
            "/usr/local/lib/python3.6/dist-packages/ipykernel_launcher.py:2: UserWarning: Boolean Series key will be reindexed to match DataFrame index.\n",
            "  \n"
          ],
          "name": "stderr"
        }
      ]
    },
    {
      "cell_type": "code",
      "metadata": {
        "id": "3lEPguwbr_1i",
        "colab_type": "code",
        "colab": {}
      },
      "source": [
        "# fixing null park names (most likely not necessary)\n",
        "park_df.loc[park_df.index == 59, 'parkname'] = 'Long Pond Park'\n",
        "park_df.loc[park_df.index == 65, 'parkname'] = 'Battery Park City Parks'\n",
        "park_df.loc[park_df.index == 68, 'parkname'] = 'Queensbridge Park'\n",
        "park_df.loc[park_df.index == 391, 'parkname'] = 'Battery Park City Parks'\n",
        "park_df.loc[park_df.index == 808, 'parkname'] = 'Highbridge Park'\n"
      ],
      "execution_count": 0,
      "outputs": []
    },
    {
      "cell_type": "code",
      "metadata": {
        "id": "zGnsoMsJt0xq",
        "colab_type": "code",
        "outputId": "d08bb7df-01df-438e-a636-6efdfa360f89",
        "colab": {
          "base_uri": "https://localhost:8080/",
          "height": 1000
        }
      },
      "source": [
        "# get counts of unique zipcodes\n",
        "unique_zipcodes = dict()\n",
        "for zipcode in park_df['Zipcode']:\n",
        "  if zipcode in unique_zipcodes:\n",
        "    unique_zipcodes[zipcode] += 1\n",
        "  else:\n",
        "    unique_zipcodes[zipcode] = 1\n",
        "\n",
        "for zipcode in unique_zipcodes:\n",
        "  print(\"Zipcode: {}, Count: {}\".format(zipcode, unique_zipcodes[zipcode]))"
      ],
      "execution_count": 10,
      "outputs": [
        {
          "output_type": "stream",
          "text": [
            "Zipcode: 11430, Count: 5\n",
            "Zipcode: 11414, Count: 1\n",
            "Zipcode: 10301, Count: 14\n",
            "Zipcode: 10314, Count: 4\n",
            "Zipcode: 10306, Count: 17\n",
            "Zipcode: 10308, Count: 3\n",
            "Zipcode: 10305, Count: 10\n",
            "Zipcode: 10307, Count: 9\n",
            "Zipcode: 11385, Count: 12\n",
            "Zipcode: 10312, Count: 3\n",
            "Zipcode: 10466, Count: 8\n",
            "Zipcode: 10805, Count: 2\n",
            "Zipcode: 11215, Count: 10\n",
            "Zipcode: 11214, Count: 14\n",
            "Zipcode: 11236, Count: 4\n",
            "Zipcode: 10461, Count: 1\n",
            "Zipcode: 11379, Count: 17\n",
            "Zipcode: 11415, Count: 5\n",
            "Zipcode: 10473, Count: 9\n",
            "Zipcode: 10280, Count: 6\n",
            "Zipcode: 11106, Count: 7\n",
            "Zipcode: 11362, Count: 3\n",
            "Zipcode: 10026, Count: 23\n",
            "Zipcode: 10002, Count: 30\n",
            "Zipcode: 10457, Count: 12\n",
            "Zipcode: 10458, Count: 5\n",
            "Zipcode: 11354, Count: 4\n",
            "Zipcode: 10003, Count: 5\n",
            "Zipcode: 11356, Count: 7\n",
            "Zipcode: 10162, Count: 20\n",
            "Zipcode: 11378, Count: 5\n",
            "Zipcode: 10468, Count: 13\n",
            "Zipcode: 10455, Count: 14\n",
            "Zipcode: 10110, Count: 5\n",
            "Zipcode: 11357, Count: 1\n",
            "Zipcode: 11364, Count: 8\n",
            "Zipcode: 11231, Count: 22\n",
            "Zipcode: 11216, Count: 4\n",
            "Zipcode: 11206, Count: 3\n",
            "Zipcode: 10009, Count: 14\n",
            "Zipcode: 11367, Count: 7\n",
            "Zipcode: 10021, Count: 4\n",
            "Zipcode: 10467, Count: 7\n",
            "Zipcode: 10153, Count: 7\n",
            "Zipcode: 11355, Count: 21\n",
            "Zipcode: 10459, Count: 13\n",
            "Zipcode: 10456, Count: 2\n",
            "Zipcode: 10460, Count: 7\n",
            "Zipcode: 11361, Count: 1\n",
            "Zipcode: 11217, Count: 9\n",
            "Zipcode: 11238, Count: 1\n",
            "Zipcode: 11225, Count: 2\n",
            "Zipcode: 11224, Count: 27\n",
            "Zipcode: 11212, Count: 9\n",
            "Zipcode: 11368, Count: 18\n",
            "Zipcode: 10028, Count: 4\n",
            "Zipcode: 10023, Count: 18\n",
            "Zipcode: 10012, Count: 10\n",
            "Zipcode: 11205, Count: 10\n",
            "Zipcode: 11207, Count: 10\n",
            "Zipcode: 11218, Count: 11\n",
            "Zipcode: 10065, Count: 3\n",
            "Zipcode: 10019, Count: 2\n",
            "Zipcode: 10044, Count: 5\n",
            "Zipcode: 10465, Count: 1\n",
            "Zipcode: 11213, Count: 3\n",
            "Zipcode: 11222, Count: 10\n",
            "Zipcode: 11211, Count: 4\n",
            "Zipcode: 11427, Count: 3\n",
            "Zipcode: 11426, Count: 2\n",
            "Zipcode: 11423, Count: 1\n",
            "Zipcode: 11102, Count: 8\n",
            "Zipcode: 11105, Count: 8\n",
            "Zipcode: 11228, Count: 3\n",
            "Zipcode: 11365, Count: 7\n",
            "Zipcode: 10304, Count: 5\n",
            "Zipcode: 10475, Count: 1\n",
            "Zipcode: 10007, Count: 8\n",
            "Zipcode: 10278, Count: 3\n",
            "Zipcode: 11235, Count: 19\n",
            "Zipcode: 11201, Count: 9\n",
            "Zipcode: 10035, Count: 8\n",
            "Zipcode: 10029, Count: 7\n",
            "Zipcode: 10004, Count: 2\n",
            "Zipcode: 11226, Count: 5\n",
            "Zipcode: 10069, Count: 5\n",
            "Zipcode: 10039, Count: 17\n",
            "Zipcode: 11220, Count: 21\n",
            "Zipcode: 11434, Count: 15\n",
            "Zipcode: 11422, Count: 2\n",
            "Zipcode: 10034, Count: 42\n",
            "Zipcode: 10032, Count: 22\n",
            "Zipcode: 10027, Count: 18\n",
            "Zipcode: 11433, Count: 12\n",
            "Zipcode: 11435, Count: 2\n",
            "Zipcode: 11421, Count: 15\n",
            "Zipcode: 11416, Count: 10\n",
            "Zipcode: 10463, Count: 1\n",
            "Zipcode: 11436, Count: 15\n",
            "Zipcode: 11351, Count: 8\n",
            "Zipcode: 10115, Count: 12\n",
            "Zipcode: 10025, Count: 9\n",
            "Zipcode: 11412, Count: 1\n",
            "Zipcode: 11413, Count: 14\n",
            "Zipcode: 11209, Count: 4\n",
            "Zipcode: 10024, Count: 5\n",
            "Zipcode: 10310, Count: 17\n",
            "Zipcode: 10302, Count: 5\n",
            "Zipcode: 10309, Count: 6\n",
            "Zipcode: 10030, Count: 13\n",
            "Zipcode: 11230, Count: 2\n",
            "Zipcode: 10452, Count: 1\n",
            "Zipcode: 10031, Count: 16\n",
            "Zipcode: 11375, Count: 3\n",
            "Zipcode: 10303, Count: 2\n",
            "Zipcode: 10474, Count: 1\n"
          ],
          "name": "stdout"
        }
      ]
    },
    {
      "cell_type": "code",
      "metadata": {
        "id": "LFfTXGwDu_mX",
        "colab_type": "code",
        "outputId": "697d538f-ebc8-454c-ad07-fca320a8d384",
        "colab": {
          "base_uri": "https://localhost:8080/",
          "height": 204
        }
      },
      "source": [
        "# create a new dataframe showing the number of parks at each zipcode\n",
        "parks_df = pd.DataFrame.from_dict(unique_zipcodes, orient='index', columns=['NumParks'])\n",
        "parks_df.sample(5)"
      ],
      "execution_count": 11,
      "outputs": [
        {
          "output_type": "execute_result",
          "data": {
            "text/html": [
              "<div>\n",
              "<style scoped>\n",
              "    .dataframe tbody tr th:only-of-type {\n",
              "        vertical-align: middle;\n",
              "    }\n",
              "\n",
              "    .dataframe tbody tr th {\n",
              "        vertical-align: top;\n",
              "    }\n",
              "\n",
              "    .dataframe thead th {\n",
              "        text-align: right;\n",
              "    }\n",
              "</style>\n",
              "<table border=\"1\" class=\"dataframe\">\n",
              "  <thead>\n",
              "    <tr style=\"text-align: right;\">\n",
              "      <th></th>\n",
              "      <th>NumParks</th>\n",
              "    </tr>\n",
              "  </thead>\n",
              "  <tbody>\n",
              "    <tr>\n",
              "      <th>10475</th>\n",
              "      <td>1</td>\n",
              "    </tr>\n",
              "    <tr>\n",
              "      <th>11367</th>\n",
              "      <td>7</td>\n",
              "    </tr>\n",
              "    <tr>\n",
              "      <th>11423</th>\n",
              "      <td>1</td>\n",
              "    </tr>\n",
              "    <tr>\n",
              "      <th>10456</th>\n",
              "      <td>2</td>\n",
              "    </tr>\n",
              "    <tr>\n",
              "      <th>11365</th>\n",
              "      <td>7</td>\n",
              "    </tr>\n",
              "  </tbody>\n",
              "</table>\n",
              "</div>"
            ],
            "text/plain": [
              "       NumParks\n",
              "10475         1\n",
              "11367         7\n",
              "11423         1\n",
              "10456         2\n",
              "11365         7"
            ]
          },
          "metadata": {
            "tags": []
          },
          "execution_count": 11
        }
      ]
    },
    {
      "cell_type": "code",
      "metadata": {
        "id": "A55flr8uvZyi",
        "colab_type": "code",
        "outputId": "07a7b594-814a-42e7-fb3d-6c9c696e22e7",
        "colab": {
          "base_uri": "https://localhost:8080/",
          "height": 122
        }
      },
      "source": [
        "drive.mount('drive')"
      ],
      "execution_count": 12,
      "outputs": [
        {
          "output_type": "stream",
          "text": [
            "Go to this URL in a browser: https://accounts.google.com/o/oauth2/auth?client_id=947318989803-6bn6qk8qdgf4n4g3pfee6491hc0brc4i.apps.googleusercontent.com&redirect_uri=urn%3aietf%3awg%3aoauth%3a2.0%3aoob&response_type=code&scope=email%20https%3a%2f%2fwww.googleapis.com%2fauth%2fdocs.test%20https%3a%2f%2fwww.googleapis.com%2fauth%2fdrive%20https%3a%2f%2fwww.googleapis.com%2fauth%2fdrive.photos.readonly%20https%3a%2f%2fwww.googleapis.com%2fauth%2fpeopleapi.readonly\n",
            "\n",
            "Enter your authorization code:\n",
            "··········\n",
            "Mounted at drive\n"
          ],
          "name": "stdout"
        }
      ]
    },
    {
      "cell_type": "code",
      "metadata": {
        "id": "gj5PZuPucOzh",
        "colab_type": "code",
        "colab": {}
      },
      "source": [
        "# Export data\n",
        "parks_df.to_csv('parks_df.csv', header=True)\n",
        "!cp parks_df.csv drive/My\\ Drive/ #saving to drive"
      ],
      "execution_count": 0,
      "outputs": []
    }
  ]
}